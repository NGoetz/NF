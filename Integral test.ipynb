{
 "cells": [
  {
   "cell_type": "code",
   "execution_count": 1,
   "metadata": {},
   "outputs": [],
   "source": [
    "\n",
    "import torch\n",
    "from binNF.normalizing_flows.manager import *\n",
    "import matplotlib.pyplot as plt\n",
    "import numpy as np"
   ]
  },
  {
   "cell_type": "code",
   "execution_count": 12,
   "metadata": {},
   "outputs": [
    {
     "name": "stdout",
     "output_type": "stream",
     "text": [
      "tensor([[  28.0470,  123.0813],\n",
      "        [   4.0336,  100.2659],\n",
      "        [ -69.1355,   68.0286],\n",
      "        ...,\n",
      "        [-349.1458,  -21.4895],\n",
      "        [ 268.2971, 2173.7861],\n",
      "        [ -38.8179,  -19.3939]])\n",
      "Value of the integral before mapping by CL\n",
      "tensor(15.5488)\n",
      "tensor([0.4914, 0.4914, 0.4780,  ..., 0.4780, 0.4914, 0.4780],\n",
      "       grad_fn=<SelectBackward>)\n",
      "Value of the integral after mapping by CL\n",
      "tensor(16.8079, grad_fn=<MeanBackward0>)\n",
      "Value of the integral in gaussian\n",
      "tensor(15.9815)\n"
     ]
    }
   ],
   "source": [
    "\"\"\"\n",
    "def g(x):\n",
    "    return torch.exp(-torch.sum(x**2,axis=-1)) #Vanilla Gaussian\n",
    "\n",
    "def g(x): #ring, expect 0.51 in 2 dim\n",
    "    q=torch.sqrt(torch.sum(x**2,axis=-1))\n",
    "    #print(q)\n",
    "    f=q.clone()\n",
    "    a=torch.zeros_like(q)\n",
    "    b=torch.ones_like(q)\n",
    "    z=torch.where(q>0.45,a,q)\n",
    "    #print(z)\n",
    "    #print(torch.where(z>1,a,b))\n",
    "    return torch.where(z<0.2,a,b)\n",
    "\"\"\"\n",
    "\n",
    "def g(x): #box: expect 16 in dim 2, 64 in dim 3\n",
    "   \n",
    "    q=torch.max(torch.abs(x),dim=-1).values\n",
    "  \n",
    "    a=torch.zeros_like(q)\n",
    "    b=torch.ones_like(q)\n",
    "   \n",
    "    return torch.where(q>2,a,b)\n",
    "\"\"\"\n",
    "def tanp(x):\n",
    "    return 100*(1+((torch.tan((x-0.5)*np.pi))**2))*np.pi   #derivative for jacobian\n",
    "\n",
    "def gaussianp(x):\n",
    "    mu=0\n",
    "    sigma=1\n",
    "    return torch.prod(-((x-mu)*torch.unsqueeze(torch.exp(-torch.sum((x-mu)**2/2*sigma**2,-1))/(np.sqrt(2*np.pi)*sigma**3),dim=-1)),-1)\n",
    "\"\"\"\n",
    "def normal(x,mu, sigma, n_flow):\n",
    "    return (torch.exp(-torch.sum((x-mu)**2/(2*sigma**2),-1)))/(sigma*np.sqrt((2*np.pi)**n_flow))\n",
    "\n",
    "n_flow=2\n",
    "w = torch.empty((2000000,n_flow)) \n",
    "torch.nn.init.uniform_(w)\n",
    "v=100*torch.tan((w-0.5)*(np.pi))\n",
    "print(v)\n",
    "print(\"Value of the integral before mapping by CL\")\n",
    "print(torch.mean(torch.mul(g(v),torch.abs(torch.prod(tanp(w),axis=-1)))))\n",
    "#print(torch.var(torch.mul(g(v),torch.prod(tanp(w),axis=-1))))\n",
    "\n",
    "NF =  AffineManager(n_flow=n_flow)\n",
    "NF.create_model(n_pass_through=1,n_cells=1, nn_width=2, NN=[20,20,20], roll_step=1)\n",
    "#print(v)\n",
    "v=NF.model(NF.format_input(v))\n",
    "jac=v[:,-1]\n",
    "print(jac)\n",
    "v=v[:,:n_flow]\n",
    "\n",
    "mult=torch.mul(g(v),jac)\n",
    "\n",
    "print(\"Value of the integral after mapping by CL\")\n",
    "print(torch.mean(torch.mul(mult,torch.prod(tanp(w),axis=-1))))\n",
    "\n",
    "\n",
    "w = torch.empty((2000000,n_flow)) \n",
    "Z=torch.nn.init.normal_(w,std=1)\n",
    "\n",
    "print(\"Value of the integral in gaussian\")\n",
    "\n",
    "print(torch.mean(g(Z)/(normal(Z,0,1,n_flow)))) \n",
    "#print(torch.var(torch.mul(g(v),torch.prod(tanp(w),axis=-1))))\n",
    "# With Gaussian example:\n",
    "#dim 2, cells 1: reproduces integral very good\n",
    "#dim 2, cells 2: slightly more deviation, O(1e-3)\n",
    "#dim 2, cells 10: O(1e-1)\n",
    "#dim 4, cells 2: deviation O(1e-1)\n",
    "#dim 2, cells 4: deviation O(1e-3)\n",
    "#dim 2, cells 8: deviation O(1e-3)\n",
    "#dim 8, cells 2: deviation O(10)\n",
    "#dim 8, cells 4: deviation O(10)\n",
    "#result stable up to dim 5 -> sampling to sparse in high dimension, no bug\n"
   ]
  },
  {
   "cell_type": "code",
   "execution_count": 2,
   "metadata": {},
   "outputs": [
    {
     "name": "stdout",
     "output_type": "stream",
     "text": [
      "Value of the integral before mapping by CL\n",
      "tensor(0.2504)\n",
      "tensor([1.1975, 1.0809, 1.2049,  ..., 1.3648, 1.2065, 1.9913],\n",
      "       grad_fn=<SelectBackward>)\n",
      "Value of the integral after mapping by CL\n",
      "tensor(0.2503, grad_fn=<MeanBackward0>)\n"
     ]
    }
   ],
   "source": [
    "def g(x): #box: expect 0.25 in dim2\n",
    "   \n",
    "    q=torch.max(torch.abs(x),dim=-1).values\n",
    "  \n",
    "    a=torch.zeros_like(q)\n",
    "    b=torch.ones_like(q)\n",
    "   \n",
    "    return torch.where(q>0.5,a,b)\n",
    "\n",
    "\n",
    "n_flow=2\n",
    "w = torch.empty((2000000,n_flow)) \n",
    "torch.nn.init.uniform_(w)\n",
    "\n",
    "print(\"Value of the integral before mapping by CL\")\n",
    "print(torch.mean(g(w)))\n",
    "\n",
    "NF =  PWLinManager(n_flow=n_flow)\n",
    "NF.create_model(n_pass_through=1,n_cells=1, nn_width=2,n_bins=50, NN=[20,20,20], roll_step=0)\n",
    "#print(v)\n",
    "v=NF.model(NF.format_input(w))\n",
    "jac=v[:,-1]\n",
    "print(jac)\n",
    "v=v[:,:n_flow]\n",
    "\n",
    "mult=torch.mul(g(v),jac)\n",
    "print(\"Value of the integral after mapping by CL\")\n",
    "print(torch.mean(mult))"
   ]
  },
  {
   "cell_type": "code",
   "execution_count": null,
   "metadata": {},
   "outputs": [],
   "source": []
  }
 ],
 "metadata": {
  "kernelspec": {
   "display_name": "Python 3",
   "language": "python",
   "name": "python3"
  },
  "language_info": {
   "codemirror_mode": {
    "name": "ipython",
    "version": 3
   },
   "file_extension": ".py",
   "mimetype": "text/x-python",
   "name": "python",
   "nbconvert_exporter": "python",
   "pygments_lexer": "ipython3",
   "version": "3.7.6"
  },
  "varInspector": {
   "cols": {
    "lenName": 16,
    "lenType": 16,
    "lenVar": 40
   },
   "kernels_config": {
    "python": {
     "delete_cmd_postfix": "",
     "delete_cmd_prefix": "del ",
     "library": "var_list.py",
     "varRefreshCmd": "print(var_dic_list())"
    },
    "r": {
     "delete_cmd_postfix": ") ",
     "delete_cmd_prefix": "rm(",
     "library": "var_list.r",
     "varRefreshCmd": "cat(var_dic_list()) "
    }
   },
   "types_to_exclude": [
    "module",
    "function",
    "builtin_function_or_method",
    "instance",
    "_Feature"
   ],
   "window_display": false
  }
 },
 "nbformat": 4,
 "nbformat_minor": 4
}
