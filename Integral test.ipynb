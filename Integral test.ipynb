{
 "cells": [
  {
   "cell_type": "code",
   "execution_count": 1,
   "metadata": {},
   "outputs": [],
   "source": [
    "\n",
    "import torch\n",
    "from binNF.normalizing_flows.manager import *\n",
    "import matplotlib.pyplot as plt\n",
    "import numpy as np"
   ]
  },
  {
   "cell_type": "code",
   "execution_count": 2,
   "metadata": {},
   "outputs": [
    {
     "name": "stdout",
     "output_type": "stream",
     "text": [
      "tensor([[1086.3318,  115.5336],\n",
      "        [  46.9078,  -66.4197],\n",
      "        [  99.0206,  -59.1204],\n",
      "        ...,\n",
      "        [-178.1409,   76.2800],\n",
      "        [   6.9047, -156.6460],\n",
      "        [ -60.3211,  -99.9049]])\n",
      "Value of the integral before mapping by CL\n",
      "tensor(37.2064)\n"
     ]
    },
    {
     "ename": "TypeError",
     "evalue": "forward() missing 1 required positional argument: 'dev'",
     "output_type": "error",
     "traceback": [
      "\u001b[0;31m---------------------------------------------------------------------------\u001b[0m",
      "\u001b[0;31mTypeError\u001b[0m                                 Traceback (most recent call last)",
      "\u001b[0;32m<ipython-input-2-be90bb371afb>\u001b[0m in \u001b[0;36m<module>\u001b[0;34m\u001b[0m\n\u001b[1;32m     47\u001b[0m \u001b[0mNF\u001b[0m\u001b[0;34m.\u001b[0m\u001b[0mcreate_model\u001b[0m\u001b[0;34m(\u001b[0m\u001b[0mn_pass_through\u001b[0m\u001b[0;34m=\u001b[0m\u001b[0;36m1\u001b[0m\u001b[0;34m,\u001b[0m\u001b[0mn_cells\u001b[0m\u001b[0;34m=\u001b[0m\u001b[0;36m1\u001b[0m\u001b[0;34m,\u001b[0m \u001b[0mnn_width\u001b[0m\u001b[0;34m=\u001b[0m\u001b[0;36m2\u001b[0m\u001b[0;34m,\u001b[0m \u001b[0mNN\u001b[0m\u001b[0;34m=\u001b[0m\u001b[0;34m[\u001b[0m\u001b[0;36m20\u001b[0m\u001b[0;34m,\u001b[0m\u001b[0;36m20\u001b[0m\u001b[0;34m,\u001b[0m\u001b[0;36m20\u001b[0m\u001b[0;34m]\u001b[0m\u001b[0;34m,\u001b[0m \u001b[0mroll_step\u001b[0m\u001b[0;34m=\u001b[0m\u001b[0;36m1\u001b[0m\u001b[0;34m)\u001b[0m\u001b[0;34m\u001b[0m\u001b[0;34m\u001b[0m\u001b[0m\n\u001b[1;32m     48\u001b[0m \u001b[0;31m#print(v)\u001b[0m\u001b[0;34m\u001b[0m\u001b[0;34m\u001b[0m\u001b[0;34m\u001b[0m\u001b[0m\n\u001b[0;32m---> 49\u001b[0;31m \u001b[0mv\u001b[0m\u001b[0;34m=\u001b[0m\u001b[0mNF\u001b[0m\u001b[0;34m.\u001b[0m\u001b[0mmodel\u001b[0m\u001b[0;34m(\u001b[0m\u001b[0mNF\u001b[0m\u001b[0;34m.\u001b[0m\u001b[0mformat_input\u001b[0m\u001b[0;34m(\u001b[0m\u001b[0mv\u001b[0m\u001b[0;34m)\u001b[0m\u001b[0;34m)\u001b[0m\u001b[0;34m\u001b[0m\u001b[0;34m\u001b[0m\u001b[0m\n\u001b[0m\u001b[1;32m     50\u001b[0m \u001b[0mjac\u001b[0m\u001b[0;34m=\u001b[0m\u001b[0mv\u001b[0m\u001b[0;34m[\u001b[0m\u001b[0;34m:\u001b[0m\u001b[0;34m,\u001b[0m\u001b[0;34m-\u001b[0m\u001b[0;36m1\u001b[0m\u001b[0;34m]\u001b[0m\u001b[0;34m\u001b[0m\u001b[0;34m\u001b[0m\u001b[0m\n\u001b[1;32m     51\u001b[0m \u001b[0mprint\u001b[0m\u001b[0;34m(\u001b[0m\u001b[0mjac\u001b[0m\u001b[0;34m)\u001b[0m\u001b[0;34m\u001b[0m\u001b[0;34m\u001b[0m\u001b[0m\n",
      "\u001b[0;32m~/miniconda3/envs/cs231n/lib/python3.7/site-packages/torch/nn/modules/module.py\u001b[0m in \u001b[0;36m__call__\u001b[0;34m(self, *input, **kwargs)\u001b[0m\n\u001b[1;32m    548\u001b[0m             \u001b[0mresult\u001b[0m \u001b[0;34m=\u001b[0m \u001b[0mself\u001b[0m\u001b[0;34m.\u001b[0m\u001b[0m_slow_forward\u001b[0m\u001b[0;34m(\u001b[0m\u001b[0;34m*\u001b[0m\u001b[0minput\u001b[0m\u001b[0;34m,\u001b[0m \u001b[0;34m**\u001b[0m\u001b[0mkwargs\u001b[0m\u001b[0;34m)\u001b[0m\u001b[0;34m\u001b[0m\u001b[0;34m\u001b[0m\u001b[0m\n\u001b[1;32m    549\u001b[0m         \u001b[0;32melse\u001b[0m\u001b[0;34m:\u001b[0m\u001b[0;34m\u001b[0m\u001b[0;34m\u001b[0m\u001b[0m\n\u001b[0;32m--> 550\u001b[0;31m             \u001b[0mresult\u001b[0m \u001b[0;34m=\u001b[0m \u001b[0mself\u001b[0m\u001b[0;34m.\u001b[0m\u001b[0mforward\u001b[0m\u001b[0;34m(\u001b[0m\u001b[0;34m*\u001b[0m\u001b[0minput\u001b[0m\u001b[0;34m,\u001b[0m \u001b[0;34m**\u001b[0m\u001b[0mkwargs\u001b[0m\u001b[0;34m)\u001b[0m\u001b[0;34m\u001b[0m\u001b[0;34m\u001b[0m\u001b[0m\n\u001b[0m\u001b[1;32m    551\u001b[0m         \u001b[0;32mfor\u001b[0m \u001b[0mhook\u001b[0m \u001b[0;32min\u001b[0m \u001b[0mself\u001b[0m\u001b[0;34m.\u001b[0m\u001b[0m_forward_hooks\u001b[0m\u001b[0;34m.\u001b[0m\u001b[0mvalues\u001b[0m\u001b[0;34m(\u001b[0m\u001b[0;34m)\u001b[0m\u001b[0;34m:\u001b[0m\u001b[0;34m\u001b[0m\u001b[0;34m\u001b[0m\u001b[0m\n\u001b[1;32m    552\u001b[0m             \u001b[0mhook_result\u001b[0m \u001b[0;34m=\u001b[0m \u001b[0mhook\u001b[0m\u001b[0;34m(\u001b[0m\u001b[0mself\u001b[0m\u001b[0;34m,\u001b[0m \u001b[0minput\u001b[0m\u001b[0;34m,\u001b[0m \u001b[0mresult\u001b[0m\u001b[0;34m)\u001b[0m\u001b[0;34m\u001b[0m\u001b[0;34m\u001b[0m\u001b[0m\n",
      "\u001b[0;31mTypeError\u001b[0m: forward() missing 1 required positional argument: 'dev'"
     ]
    }
   ],
   "source": [
    "\"\"\"\n",
    "def g(x):\n",
    "    return torch.exp(-torch.sum(x**2,axis=-1)) #Vanilla Gaussian\n",
    "\n",
    "def g(x): #ring, expect 0.51 in 2 dim\n",
    "    q=torch.sqrt(torch.sum(x**2,axis=-1))\n",
    "    #print(q)\n",
    "    f=q.clone()\n",
    "    a=torch.zeros_like(q)\n",
    "    b=torch.ones_like(q)\n",
    "    z=torch.where(q>0.45,a,q)\n",
    "    #print(z)\n",
    "    #print(torch.where(z>1,a,b))\n",
    "    return torch.where(z<0.2,a,b)\n",
    "\"\"\"\n",
    "\n",
    "def g(x): #box: expect 16 in dim 2, 64 in dim 3\n",
    "   \n",
    "    q=torch.max(torch.abs(x),dim=-1).values\n",
    "  \n",
    "    a=torch.zeros_like(q)\n",
    "    b=torch.ones_like(q)\n",
    "   \n",
    "    return torch.where(q>2,a,b)\n",
    "\"\"\"\n",
    "def tanp(x):\n",
    "    return 100*(1+((torch.tan((x-0.5)*np.pi))**2))*np.pi   #derivative for jacobian\n",
    "\n",
    "def gaussianp(x):\n",
    "    mu=0\n",
    "    sigma=1\n",
    "    return torch.prod(-((x-mu)*torch.unsqueeze(torch.exp(-torch.sum((x-mu)**2/2*sigma**2,-1))/(np.sqrt(2*np.pi)*sigma**3),dim=-1)),-1)\n",
    "\"\"\"\n",
    "def normal(x,mu, sigma, n_flow):\n",
    "    return (torch.exp(-torch.sum((x-mu)**2/(2*sigma**2),-1)))/(sigma*np.sqrt((2*np.pi)**n_flow))\n",
    "\n",
    "n_flow=2\n",
    "w = torch.empty((2000000,n_flow)) \n",
    "torch.nn.init.uniform_(w)\n",
    "v=100*torch.tan((w-0.5)*(np.pi))\n",
    "print(v)\n",
    "print(\"Value of the integral before mapping by CL\")\n",
    "print(torch.mean(torch.mul(g(v),torch.abs(torch.prod(tanp(w),axis=-1)))))\n",
    "#print(torch.var(torch.mul(g(v),torch.prod(tanp(w),axis=-1))))\n",
    "\n",
    "NF =  AffineManager(n_flow=n_flow)\n",
    "NF.create_model(n_pass_through=1,n_cells=1, nn_width=2, NN=[20,20,20], roll_step=1)\n",
    "#print(v)\n",
    "v=NF.model(NF.format_input(v))\n",
    "jac=v[:,-1]\n",
    "print(jac)\n",
    "v=v[:,:n_flow]\n",
    "\n",
    "mult=torch.mul(g(v),jac)\n",
    "\n",
    "print(\"Value of the integral after mapping by CL\")\n",
    "print(torch.mean(torch.mul(mult,torch.prod(tanp(w),axis=-1))))\n",
    "\n",
    "\n",
    "w = torch.empty((2000000,n_flow)) \n",
    "Z=torch.nn.init.normal_(w,std=1)\n",
    "\n",
    "print(\"Value of the integral in gaussian\")\n",
    "\n",
    "print(torch.mean(g(Z)/(normal(Z,0,1,n_flow)))) \n",
    "#print(torch.var(torch.mul(g(v),torch.prod(tanp(w),axis=-1))))\n",
    "# With Gaussian example:\n",
    "#dim 2, cells 1: reproduces integral very good\n",
    "#dim 2, cells 2: slightly more deviation, O(1e-3)\n",
    "#dim 2, cells 10: O(1e-1)\n",
    "#dim 4, cells 2: deviation O(1e-1)\n",
    "#dim 2, cells 4: deviation O(1e-3)\n",
    "#dim 2, cells 8: deviation O(1e-3)\n",
    "#dim 8, cells 2: deviation O(10)\n",
    "#dim 8, cells 4: deviation O(10)\n",
    "#result stable up to dim 5 -> sampling to sparse in high dimension, no bug\n"
   ]
  },
  {
   "cell_type": "code",
   "execution_count": 5,
   "metadata": {},
   "outputs": [
    {
     "name": "stdout",
     "output_type": "stream",
     "text": [
      "Value of the integral before mapping by CL\n",
      "tensor(0.2492)\n",
      "tensor([1.2398, 0.7747, 1.3923,  ..., 0.8232, 0.9215, 1.2262],\n",
      "       grad_fn=<SelectBackward>)\n",
      "Value of the integral after mapping by CL\n",
      "tensor(0.2492, grad_fn=<MeanBackward0>)\n"
     ]
    }
   ],
   "source": [
    "def g(x): #box: expect 0.25 in dim2\n",
    "   \n",
    "    q=torch.max(torch.abs(x),dim=-1).values\n",
    "  \n",
    "    a=torch.zeros_like(q)\n",
    "    b=torch.ones_like(q)\n",
    "   \n",
    "    return torch.where(q>0.5,a,b)\n",
    "\n",
    "\n",
    "n_flow=2\n",
    "w = torch.empty((150000,n_flow)) \n",
    "torch.nn.init.uniform_(w)\n",
    "\n",
    "print(\"Value of the integral before mapping by CL\")\n",
    "print(torch.mean(g(w)))\n",
    "\n",
    "NF =  PWQuadManager(n_flow=n_flow)\n",
    "NF.create_model(n_cells=2, n_bins=10, NN=[20,20,20,20,20], dev=torch.device(\"cpu\"))\n",
    "#print(v)\n",
    "v=NF.model(NF.format_input(w,torch.device(\"cpu\")))\n",
    "jac=v[:,-1]\n",
    "print(jac)\n",
    "v=v[:,:n_flow]\n",
    "\n",
    "mult=torch.mul(g(v),jac)\n",
    "print(\"Value of the integral after mapping by CL\")\n",
    "print(torch.mean(mult))"
   ]
  },
  {
   "cell_type": "code",
   "execution_count": null,
   "metadata": {},
   "outputs": [],
   "source": []
  }
 ],
 "metadata": {
  "kernelspec": {
   "display_name": "Python 3",
   "language": "python",
   "name": "python3"
  },
  "language_info": {
   "codemirror_mode": {
    "name": "ipython",
    "version": 3
   },
   "file_extension": ".py",
   "mimetype": "text/x-python",
   "name": "python",
   "nbconvert_exporter": "python",
   "pygments_lexer": "ipython3",
   "version": "3.7.6"
  },
  "varInspector": {
   "cols": {
    "lenName": 16,
    "lenType": 16,
    "lenVar": 40
   },
   "kernels_config": {
    "python": {
     "delete_cmd_postfix": "",
     "delete_cmd_prefix": "del ",
     "library": "var_list.py",
     "varRefreshCmd": "print(var_dic_list())"
    },
    "r": {
     "delete_cmd_postfix": ") ",
     "delete_cmd_prefix": "rm(",
     "library": "var_list.r",
     "varRefreshCmd": "cat(var_dic_list()) "
    }
   },
   "types_to_exclude": [
    "module",
    "function",
    "builtin_function_or_method",
    "instance",
    "_Feature"
   ],
   "window_display": false
  }
 },
 "nbformat": 4,
 "nbformat_minor": 4
}
