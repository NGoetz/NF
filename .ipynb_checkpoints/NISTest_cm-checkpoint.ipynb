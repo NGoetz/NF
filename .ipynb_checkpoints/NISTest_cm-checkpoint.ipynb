{
 "cells": [
  {
   "cell_type": "code",
   "execution_count": 1,
   "metadata": {},
   "outputs": [],
   "source": [
    "\n",
    "import torch\n",
    "from tf_toolbox.normalizing_flows.manager import *\n",
    "import matplotlib.pyplot as plt\n"
   ]
  },
  {
   "cell_type": "code",
   "execution_count": 2,
   "metadata": {},
   "outputs": [],
   "source": [
    "\n",
    "def gaussian(x):\n",
    "    return torch.exp( -torch.sum((x-0.5)**2,axis=-1)/0.3**2 )"
   ]
  },
  {
   "cell_type": "code",
   "execution_count": 3,
   "metadata": {},
   "outputs": [],
   "source": [
    "n_flow = 2      # number of dimensions\n",
    "\n",
    "\n",
    "# We define our NormalizingFlow object \n",
    "NF =  AffineManager(n_flow=n_flow)\n",
    "\n"
   ]
  },
  {
   "cell_type": "code",
   "execution_count": 4,
   "metadata": {},
   "outputs": [],
   "source": [
    "#The model is created\n",
    "NF.create_model(n_pass_through=1,n_cells=4, nn_width=2, NN=[20,20,20,20,20], roll_step=1)\n",
    "optim = torch.optim.Adamax(NF.model.parameters(),lr=1e-3, weight_decay=0) #add optimiser\n",
    "\n"
   ]
  },
  {
   "cell_type": "code",
   "execution_count": 5,
   "metadata": {},
   "outputs": [
    {
     "data": {
      "application/vnd.jupyter.widget-view+json": {
       "model_id": "",
       "version_major": 2,
       "version_minor": 0
      },
      "text/plain": [
       "HBox(children=(FloatProgress(value=0.0, description='Loss: 0.000e+00 | Epoch', max=1000.0, style=ProgressStyle…"
      ]
     },
     "metadata": {},
     "output_type": "display_data"
    },
    {
     "name": "stdout",
     "output_type": "stream",
     "text": [
      "\r"
     ]
    }
   ],
   "source": [
    "history = NF._train_variance_forward(gaussian,epochs=1000,batch_size=10000,optimizer_object=optim, logdir=\"./logs/tmp/\")"
   ]
  },
  {
   "cell_type": "code",
   "execution_count": 6,
   "metadata": {},
   "outputs": [
    {
     "name": "stdout",
     "output_type": "stream",
     "text": [
      "0.1425093561410904\n"
     ]
    },
    {
     "data": {
      "image/png": "[encoded data removed]",
      "text/plain": [
       "<Figure size 864x288 with 3 Axes>"
      ]
     },
     "metadata": {
      "needs_background": "light"
     },
     "output_type": "display_data"
    }
   ],
   "source": [
    "losses=[]\n",
    "for key, value in history.items():\n",
    "    losses.append(value[\"loss\"])\n",
    "\n",
    "fig = plt.figure(figsize=(12, 4))\n",
    "a1=fig.add_subplot(131)\n",
    "plt.plot(losses)\n",
    "print(losses[-1])\n",
    "a1.title.set_text('Loss')\n",
    "a2=fig.add_subplot(132)\n",
    "plt.plot(np.sqrt(np.exp(losses)))\n",
    "a2.title.set_text('Standard Deviation')\n",
    "\n",
    "w = torch.empty((10000,2)) \n",
    "torch.nn.init.uniform_(w)\n",
    "\n",
    "w=NF.format_input(w)\n",
    "\n",
    "X=NF.model(w).data.numpy()\n",
    "\n",
    "a3=fig.add_subplot(133)\n",
    "plt.hist2d(X[:,0],X[:,1],bins=50)\n",
    "a3.set_aspect(aspect=1.)\n",
    "a3.title.set_text('Point histogram (PDF)')\n",
    "a3.tick_params(\n",
    "    axis='both',          # changes apply to the x-axis\n",
    "    which='both',      # both major and minor ticks are affected\n",
    "    bottom=False,      # ticks along the bottom edge are off\n",
    "    left=False,         # ticks along the top edge are off\n",
    "    labelbottom=False,\n",
    "    labelleft=False)\n",
    "\n",
    "\n"
   ]
  },
  {
   "cell_type": "code",
   "execution_count": 17,
   "metadata": {},
   "outputs": [
    {
     "name": "stdout",
     "output_type": "stream",
     "text": [
      "W\n",
      "tensor([[0.1749, 0.9668],\n",
      "        [0.4073, 0.8176],\n",
      "        [0.9673, 0.7254],\n",
      "        ...,\n",
      "        [0.7082, 0.3177],\n",
      "        [0.7580, 0.2483],\n",
      "        [0.2512, 0.7041]], requires_grad=True)\n",
      "with jacob\n",
      "tensor([[0.1749, 0.9668, 1.0000],\n",
      "        [0.4073, 0.8176, 1.0000],\n",
      "        [0.9673, 0.7254, 1.0000],\n",
      "        ...,\n",
      "        [0.7082, 0.3177, 1.0000],\n",
      "        [0.7580, 0.2483, 1.0000],\n",
      "        [0.2512, 0.7041, 1.0000]], grad_fn=<CatBackward>)\n",
      "XJ\n",
      "tensor([[1.3223, 0.1749, 1.3123],\n",
      "        [1.1089, 0.4073, 1.2933],\n",
      "        [0.9541, 0.9673, 1.2513],\n",
      "        ...,\n",
      "        [0.4523, 0.7082, 1.2700],\n",
      "        [0.3628, 0.7580, 1.2663],\n",
      "        [0.9725, 0.2512, 1.3060]], grad_fn=<CatBackward>)\n",
      "X\n",
      "tensor([[1.3223, 0.1749],\n",
      "        [1.1089, 0.4073],\n",
      "        [0.9541, 0.9673],\n",
      "        ...,\n",
      "        [0.4523, 0.7082],\n",
      "        [0.3628, 0.7580],\n",
      "        [0.9725, 0.2512]])\n",
      "torch.Size([10000, 2])\n",
      "Gaussian:\n",
      "tensor([1.6852e-04, 1.4771e-02, 8.9398e-03,  ..., 6.0246e-01, 3.8729e-01,\n",
      "        4.2072e-02])\n",
      "Gaussian mean\n",
      "tensor(0.1111)\n",
      "torch.Size([10000])\n",
      "tensor(0.0002)\n",
      "fXJ\n",
      "tensor([2.2116e-04, 1.9103e-02, 1.1186e-02,  ..., 7.6515e-01, 4.9044e-01,\n",
      "        5.4944e-02], grad_fn=<MulBackward0>)\n",
      "Initial loss:\n",
      "tensor(0.1837, grad_fn=<MeanBackward0>)\n"
     ]
    }
   ],
   "source": [
    "\n"
   ]
  },
  {
   "cell_type": "code",
   "execution_count": null,
   "metadata": {},
   "outputs": [],
   "source": []
  }
 ],
 "metadata": {
  "kernelspec": {
   "display_name": "Python 3",
   "language": "python",
   "name": "python3"
  },
  "language_info": {
   "codemirror_mode": {
    "name": "ipython",
    "version": 3
   },
   "file_extension": ".py",
   "mimetype": "text/x-python",
   "name": "python",
   "nbconvert_exporter": "python",
   "pygments_lexer": "ipython3",
   "version": "3.7.6"
  },
  "varInspector": {
   "cols": {
    "lenName": 16,
    "lenType": 16,
    "lenVar": 40
   },
   "kernels_config": {
    "python": {
     "delete_cmd_postfix": "",
     "delete_cmd_prefix": "del ",
     "library": "var_list.py",
     "varRefreshCmd": "print(var_dic_list())"
    },
    "r": {
     "delete_cmd_postfix": ") ",
     "delete_cmd_prefix": "rm(",
     "library": "var_list.r",
     "varRefreshCmd": "cat(var_dic_list()) "
    }
   },
   "types_to_exclude": [
    "module",
    "function",
    "builtin_function_or_method",
    "instance",
    "_Feature"
   ],
   "window_display": false
  }
 },
 "nbformat": 4,
 "nbformat_minor": 4
}
