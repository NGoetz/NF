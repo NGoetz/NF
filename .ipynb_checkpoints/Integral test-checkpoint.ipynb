{
 "cells": [
  {
   "cell_type": "code",
   "execution_count": 1,
   "metadata": {},
   "outputs": [],
   "source": [
    "\n",
    "import torch\n",
    "from nisrep.normalizing_flows.manager import *\n",
    "import matplotlib.pyplot as plt\n",
    "import numpy as np\n",
    "torch.set_default_dtype(torch.double)"
   ]
  },
  {
   "cell_type": "code",
   "execution_count": 2,
   "metadata": {},
   "outputs": [
    {
     "name": "stdout",
     "output_type": "stream",
     "text": [
      "tensor([[  -70.3447,  -116.6391],\n",
      "        [  -50.1929,    17.5487],\n",
      "        [   37.3471,   779.1632],\n",
      "        ...,\n",
      "        [   23.2022,   157.0537],\n",
      "        [ -121.5329,     4.6607],\n",
      "        [  -99.9677, -1823.7998]])\n",
      "Value of the integral before mapping by CL\n",
      "tensor(35.5390)\n",
      "tensor([-0.0129, -0.0129,  0.0224,  ...,  0.0224, -0.0129, -0.0129],\n",
      "       grad_fn=<SelectBackward>)\n",
      "Value of the integral after mapping by CL\n",
      "tensor(14.1535, grad_fn=<MeanBackward0>)\n",
      "Value of the integral in gaussian\n",
      "tensor(16.0306)\n"
     ]
    }
   ],
   "source": [
    "\"\"\"\n",
    "def g(x):\n",
    "    return torch.exp(-torch.sum(x**2,axis=-1)) #Vanilla Gaussian\n",
    "\n",
    "def g(x): #ring, expect 0.51 in 2 dim\n",
    "    q=torch.sqrt(torch.sum(x**2,axis=-1))\n",
    "    #print(q)\n",
    "    f=q.clone()\n",
    "    a=torch.zeros_like(q)\n",
    "    b=torch.ones_like(q)\n",
    "    z=torch.where(q>0.45,a,q)\n",
    "    #print(z)\n",
    "    #print(torch.where(z>1,a,b))\n",
    "    return torch.where(z<0.2,a,b)\n",
    "\"\"\"\n",
    "\n",
    "def g(x): #box: expect 16 in dim 2, 64 in dim 3\n",
    "   \n",
    "    q=torch.max(torch.abs(x),dim=-1).values\n",
    "  \n",
    "    a=torch.zeros_like(q)\n",
    "    b=torch.ones_like(q)\n",
    "   \n",
    "    return torch.where(q>2,a,b)\n",
    "\"\"\"\n",
    "def tanp(x):\n",
    "    return 100*(1+((torch.tan((x-0.5)*np.pi))**2))*np.pi   #derivative for jacobian\n",
    "\n",
    "def gaussianp(x):\n",
    "    mu=0\n",
    "    sigma=1\n",
    "    return torch.prod(-((x-mu)*torch.unsqueeze(torch.exp(-torch.sum((x-mu)**2/2*sigma**2,-1))/(np.sqrt(2*np.pi)*sigma**3),dim=-1)),-1)\n",
    "\"\"\"\n",
    "def normal(x,mu, sigma, n_flow):\n",
    "    return (torch.exp(-torch.sum((x-mu)**2/(2*sigma**2),-1)))/(sigma*np.sqrt((2*np.pi)**n_flow))\n",
    "\n",
    "n_flow=2\n",
    "w = torch.empty((200000,n_flow)) \n",
    "torch.nn.init.uniform_(w)\n",
    "v=100*torch.tan((w-0.5)*(np.pi))\n",
    "print(v)\n",
    "print(\"Value of the integral before mapping by CL\")\n",
    "print(torch.mean(torch.mul(g(v),torch.abs(torch.prod(tanp(w),axis=-1)))))\n",
    "#print(torch.var(torch.mul(g(v),torch.prod(tanp(w),axis=-1))))\n",
    "\n",
    "NF =  AffineManager(n_flow=n_flow)\n",
    "NF.create_model(n_pass_through=1,n_cells=1, nn_width=2, NN=[20,20,20], roll_step=1)\n",
    "#print(v)\n",
    "v=NF.model(NF.format_input(v, dev=v.device))\n",
    "jac=v[:,-1]\n",
    "print(jac)\n",
    "v=v[:,:n_flow]\n",
    "\n",
    "mult=torch.mul(g(v),jac)\n",
    "\n",
    "print(\"Value of the integral after mapping by CL\")\n",
    "print(torch.mean(torch.mul(mult,torch.prod(tanp(w),axis=-1))))\n",
    "\n",
    "\n",
    "w = torch.empty((2000000,n_flow)) \n",
    "Z=torch.nn.init.normal_(w,std=1)\n",
    "\n",
    "print(\"Value of the integral in gaussian\")\n",
    "\n",
    "print(torch.mean(g(Z)/(normal(Z,0,1,n_flow)))) \n",
    "\n"
   ]
  },
  {
   "cell_type": "code",
   "execution_count": 3,
   "metadata": {},
   "outputs": [
    {
     "name": "stdout",
     "output_type": "stream",
     "text": [
      "Value of the integral before mapping by CL\n",
      "tensor(0.2483)\n",
      "Variance\n",
      "tensor(0.1867)\n",
      "SDEV\n",
      "tensor(0.4321)\n",
      "Assumed error\n",
      "tensor(0.0019)\n",
      "tensor([0.6077, 1.6470, 1.8691,  ..., 1.9974, 0.5483, 0.4594],\n",
      "       grad_fn=<SelectBackward>)\n",
      "Value of the integral after mapping by CL\n",
      "tensor(0.2488, grad_fn=<MeanBackward0>)\n"
     ]
    },
    {
     "data": {
      "application/vnd.jupyter.widget-view+json": {
       "model_id": "",
       "version_major": 2,
       "version_minor": 0
      },
      "text/plain": [
       "HBox(children=(FloatProgress(value=0.0, description='Loss: 0.000e+00 | Epoch', max=8.0, style=ProgressStyle(de…"
      ]
     },
     "metadata": {},
     "output_type": "display_data"
    },
    {
     "name": "stdout",
     "output_type": "stream",
     "text": [
      "tensor([0.1883, 0.1826, 0.1882, 0.1940, 0.1836, 0.1649, 0.1954, 0.1931, 0.1846])\n",
      "tensor(48.4774)\n",
      "tensor(0.0206)\n",
      "0.24664945109424263\n",
      "0.14362504735347636\n",
      "tensor([0.5202, 1.4461, 1.7566,  ..., 1.5902, 0.6995, 0.4735],\n",
      "       grad_fn=<SelectBackward>)\n",
      "Value of the integral after mapping by training\n",
      "tensor(0.2473, grad_fn=<MeanBackward0>)\n"
     ]
    }
   ],
   "source": [
    "def g(x): #box: expect 0.25 in dim2, 0,0039 in dim 8, 0,00195 in dim 9\n",
    "   \n",
    "    q=torch.max(torch.abs(x),dim=-1).values\n",
    "  \n",
    "    a=torch.zeros_like(q)\n",
    "    b=torch.ones_like(q)\n",
    "   \n",
    "    return torch.where(q>0.5,a,b)\n",
    "\n",
    "\n",
    "n_flow=2\n",
    "w = torch.empty((50000,n_flow)) \n",
    "torch.nn.init.uniform_(w)\n",
    "\n",
    "print(\"Value of the integral before mapping by CL\")\n",
    "print(torch.mean(g(w)))\n",
    "print(\"Variance\")\n",
    "print(torch.var(g(w)))\n",
    "print(\"SDEV\")\n",
    "print(torch.std(g(w)))\n",
    "print(\"Assumed error\")\n",
    "print(torch.std(g(w))/np.sqrt(50000))\n",
    "NF =  PWQuadManager(n_flow=n_flow)\n",
    "NF.create_model(n_cells=2, n_bins=10, NN=[10,10,10], dev=torch.device(\"cpu\"))\n",
    "#print(v)\n",
    "v=NF.model(NF.format_input(w,torch.device(\"cpu\")))\n",
    "jac=v[:,-1]\n",
    "print(jac)\n",
    "v=v[:,:n_flow]\n",
    "\n",
    "mult=torch.mul(g(v),jac)\n",
    "print(\"Value of the integral after mapping by CL\")\n",
    "print(torch.mean(mult))\n",
    "optim = torch.optim.Adamax(NF._model.parameters(),lr=1e-3, weight_decay=1e-5) \n",
    "res,err=NF._train_variance_forward_seq(g,optim,\"./logs/tmp/\",1000,8,\n",
    "                                           pretty_progressbar=True,save_best=True,run=None,dev=0,log=False,\n",
    "                                               integrate=True,preburn_time=50)\n",
    "print(res)\n",
    "print(err)\n",
    "\n",
    "v=NF.model(NF.format_input(w,torch.device(\"cpu\")))\n",
    "jac=v[:,-1]\n",
    "print(jac)\n",
    "v=v[:,:n_flow]\n",
    "mult=torch.mul(g(v),jac)\n",
    "print(\"Value of the integral after mapping by training\")\n",
    "print(torch.mean(mult))"
   ]
  },
  {
   "cell_type": "code",
   "execution_count": 2,
   "metadata": {},
   "outputs": [
    {
     "name": "stdout",
     "output_type": "stream",
     "text": [
      "1000\n",
      "2000\n",
      "3000\n",
      "4000\n",
      "5000\n",
      "tensor([0.1164])\n",
      "Value of the integral before mapping by CL\n",
      "tensor(0.1461)\n"
     ]
    }
   ],
   "source": [
    "n_flow=2\n",
    "w = torch.empty((1000,n_flow)) \n",
    "torch.nn.init.uniform_(w)\n",
    "maxim=torch.max(normal(w,0,1,n_flow))\n",
    "i=0\n",
    "res=0\n",
    "q=0\n",
    "while(i<5000):\n",
    "    q=q+1\n",
    "    w = torch.empty((1,n_flow)) \n",
    "    torch.nn.init.uniform_(w)\n",
    "    w2=torch.empty((1,1))\n",
    "    inter=normal(w,0,1,n_flow)\n",
    "    if(inter/maxim>w2):\n",
    "        res+=inter\n",
    "        i=i+1\n",
    "    if(i%1000==0):\n",
    "        print(i)\n",
    "print((res/5000)*5000/q)\n",
    "\n",
    "print(\"Value of the integral before mapping by CL\")\n",
    "print(torch.mean(normal(w,0,1,n_flow)))"
   ]
  },
  {
   "cell_type": "code",
   "execution_count": 3,
   "metadata": {},
   "outputs": [
    {
     "name": "stdout",
     "output_type": "stream",
     "text": [
      "tensor([[1.1267],\n",
      "        [1.7229],\n",
      "        [1.4604],\n",
      "        ...,\n",
      "        [1.6648],\n",
      "        [1.7874],\n",
      "        [1.9973]])\n",
      "tensor(4.7065)\n"
     ]
    }
   ],
   "source": [
    "w = torch.empty((120000,1)) \n",
    "torch.nn.init.uniform_(w)\n",
    "z=torch.mean(1+torch.cos((w-0.5)*np.pi)**2)*np.pi#*16*(1.6)**4\n",
    "print(1+torch.cos((w-0.5)*np.pi)**2)\n",
    "print(z)"
   ]
  },
  {
   "cell_type": "code",
   "execution_count": null,
   "metadata": {},
   "outputs": [],
   "source": []
  },
  {
   "cell_type": "code",
   "execution_count": null,
   "metadata": {},
   "outputs": [],
   "source": []
  }
 ],
 "metadata": {
  "kernelspec": {
   "display_name": "Python 3",
   "language": "python",
   "name": "python3"
  },
  "language_info": {
   "codemirror_mode": {
    "name": "ipython",
    "version": 3
   },
   "file_extension": ".py",
   "mimetype": "text/x-python",
   "name": "python",
   "nbconvert_exporter": "python",
   "pygments_lexer": "ipython3",
   "version": "3.7.6"
  },
  "varInspector": {
   "cols": {
    "lenName": 16,
    "lenType": 16,
    "lenVar": 40
   },
   "kernels_config": {
    "python": {
     "delete_cmd_postfix": "",
     "delete_cmd_prefix": "del ",
     "library": "var_list.py",
     "varRefreshCmd": "print(var_dic_list())"
    },
    "r": {
     "delete_cmd_postfix": ") ",
     "delete_cmd_prefix": "rm(",
     "library": "var_list.r",
     "varRefreshCmd": "cat(var_dic_list()) "
    }
   },
   "types_to_exclude": [
    "module",
    "function",
    "builtin_function_or_method",
    "instance",
    "_Feature"
   ],
   "window_display": false
  }
 },
 "nbformat": 4,
 "nbformat_minor": 4
}
