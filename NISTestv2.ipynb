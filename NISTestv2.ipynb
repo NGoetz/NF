{
 "cells": [
  {
   "cell_type": "code",
   "execution_count": 1,
   "metadata": {},
   "outputs": [],
   "source": [
    "import torch\n",
    "from binNF.normalizing_flows.manager import *\n",
    "import matplotlib.pyplot as plt\n",
    "import numpy as np\n"
   ]
  },
  {
   "cell_type": "code",
   "execution_count": 2,
   "metadata": {},
   "outputs": [],
   "source": [
    "def step(x):\n",
    "    a=torch.zeros_like(x[:,0])\n",
    "    b=torch.ones_like(x[:,0])\n",
    "   \n",
    "    return torch.where(abs(x[:,0])>0.5,a,b)\n",
    "\n",
    "def gaussian(x):\n",
    "    return torch.exp( -torch.sum((x)**2,-1))\n",
    "\n",
    "def gaussianb(x):\n",
    "    return torch.exp( -(x)**2)[:,0]\n",
    "\n",
    "def gaussianbnp(x):\n",
    "    return np.exp( -(x)**2 )[:,0]\n",
    "\n",
    "def gaussiannp(x):\n",
    "    return np.exp( -(x[:,0])**2 )\n",
    "\n",
    "def con(x):\n",
    "    y=torch.empty(x.shape[0])\n",
    "    return y.fill_(5)\n",
    "\n",
    "def sin(x):\n",
    "    return 2+torch.sin(x[:,1])\n",
    "\n",
    "def lin(x):\n",
    "    return 0.2*x[:,0]+0.5\n",
    "\n",
    "def sinnp(x):\n",
    "    return 2+np.sin(x[:,1])\n",
    "\n",
    "def tanp(r):\n",
    "    return (1+((torch.tan((r-0.5)*np.pi))**2))*np.pi"
   ]
  },
  {
   "cell_type": "code",
   "execution_count": 3,
   "metadata": {},
   "outputs": [],
   "source": [
    "n_flow = 2      # number of dimensions\n",
    "\n",
    "\n",
    "# We define our NormalizingFlow object \n",
    "NF =  AffineManager(n_flow=n_flow)\n",
    "\n"
   ]
  },
  {
   "cell_type": "code",
   "execution_count": 29,
   "metadata": {},
   "outputs": [],
   "source": [
    "#The model is created\n",
    "NF.create_model(n_pass_through=1,n_cells=1, NN=[200,200,200,200], roll_step=1)\n",
    "optim = torch.optim.SGD(NF._model.parameters(),lr=2e-7, weight_decay=1e-7) \n"
   ]
  },
  {
   "cell_type": "code",
   "execution_count": 30,
   "metadata": {},
   "outputs": [
    {
     "data": {
      "application/vnd.jupyter.widget-view+json": {
       "model_id": "",
       "version_major": 2,
       "version_minor": 0
      },
      "text/plain": [
       "HBox(children=(FloatProgress(value=0.0, description='Loss: 0.000e+00 | Epoch', max=60.0, style=ProgressStyle(d…"
      ]
     },
     "metadata": {},
     "output_type": "display_data"
    }
   ],
   "source": [
    "\n",
    "history = NF._train_variance_forward(gaussian,epochs=60,batch_size=20000,optimizer_object=optim, logdir=\"./logs/tmp/\")\n"
   ]
  },
  {
   "cell_type": "code",
   "execution_count": 18,
   "metadata": {},
   "outputs": [
    {
     "name": "stdout",
     "output_type": "stream",
     "text": [
      "2.4372817403629093e-14\n"
     ]
    },
    {
     "name": "stderr",
     "output_type": "stream",
     "text": [
      "/home/niklas/miniconda3/envs/cs231n/lib/python3.7/site-packages/ipykernel_launcher.py:11: RuntimeWarning: overflow encountered in exp\n",
      "  # This is added back by InteractiveShellApp.init_path()\n"
     ]
    },
    {
     "data": {
      "image/png": "[encoded data removed]",
      "text/plain": [
       "<Figure size 864x288 with 2 Axes>"
      ]
     },
     "metadata": {
      "needs_background": "light"
     },
     "output_type": "display_data"
    }
   ],
   "source": [
    "\n",
    "losses=[]\n",
    "for key, value in history.items():\n",
    "    losses.append(value[\"loss\"])\n",
    "\n",
    "fig = plt.figure(figsize=(12, 4))\n",
    "a1=fig.add_subplot(131)\n",
    "plt.plot(losses)\n",
    "print(min(losses))\n",
    "a1.title.set_text('Loss')\n",
    "a2=fig.add_subplot(132)\n",
    "plt.plot(np.sqrt(np.exp(losses)))\n",
    "a2.title.set_text('Standard Deviation')\n",
    "\n",
    "\n",
    "\n",
    "\n"
   ]
  },
  {
   "cell_type": "code",
   "execution_count": 31,
   "metadata": {},
   "outputs": [
    {
     "name": "stdout",
     "output_type": "stream",
     "text": [
      "W\n",
      "tensor([[0.9961, 0.1509],\n",
      "        [0.4255, 0.1503],\n",
      "        [0.1513, 0.1617],\n",
      "        [0.6122, 0.4908],\n",
      "        [0.6845, 0.4312],\n",
      "        [0.9201, 0.6762],\n",
      "        [0.8221, 0.7553],\n",
      "        [0.1409, 0.7475],\n",
      "        [0.4087, 0.1368],\n",
      "        [0.5259, 0.2732]])\n",
      "with jacob\n",
      "tensor([[0.9961, 0.1509, 1.0000],\n",
      "        [0.4255, 0.1503, 1.0000],\n",
      "        [0.1513, 0.1617, 1.0000],\n",
      "        [0.6122, 0.4908, 1.0000],\n",
      "        [0.6845, 0.4312, 1.0000],\n",
      "        [0.9201, 0.6762, 1.0000],\n",
      "        [0.8221, 0.7553, 1.0000],\n",
      "        [0.1409, 0.7475, 1.0000],\n",
      "        [0.4087, 0.1368, 1.0000],\n",
      "        [0.5259, 0.2732, 1.0000]])\n",
      "mapped\n",
      "tensor([[ 8.2424e+03, -1.9489e+02,  1.0000e+00],\n",
      "        [-2.3842e+01, -1.9575e+02,  1.0000e+00],\n",
      "        [-1.9433e+02, -1.7958e+02,  1.0000e+00],\n",
      "        [ 3.6784e+01, -2.8922e+00,  1.0000e+00],\n",
      "        [ 6.5480e+01, -2.1948e+01,  1.0000e+00],\n",
      "        [ 3.8988e+02,  6.1795e+01,  1.0000e+00],\n",
      "        [ 1.5994e+02,  1.0337e+02,  1.0000e+00],\n",
      "        [-2.1098e+02,  9.8423e+01,  1.0000e+00],\n",
      "        [-2.9502e+01, -2.1821e+02,  1.0000e+00],\n",
      "        [ 8.1680e+00, -8.6409e+01,  1.0000e+00]])\n",
      "XJ\n",
      "tensor([[ 8.2424e+03, -2.1715e+00,  1.1142e-02],\n",
      "        [-2.3842e+01, -9.2616e-01,  4.7312e-03],\n",
      "        [-1.9433e+02, -8.4962e-01,  4.7312e-03],\n",
      "        [ 3.6784e+01, -3.2224e-02,  1.1142e-02],\n",
      "        [ 6.5480e+01, -2.4454e-01,  1.1142e-02],\n",
      "        [ 3.8988e+02,  6.8851e-01,  1.1142e-02],\n",
      "        [ 1.5994e+02,  1.1517e+00,  1.1142e-02],\n",
      "        [-2.1098e+02,  4.6566e-01,  4.7312e-03],\n",
      "        [-2.9502e+01, -1.0324e+00,  4.7312e-03],\n",
      "        [ 8.1680e+00, -9.6275e-01,  1.1142e-02]], grad_fn=<CatBackward>)\n",
      "X\n",
      "tensor([[0.9961, 0.4931],\n",
      "        [0.4255, 0.4971],\n",
      "        [0.1513, 0.4973],\n",
      "        [0.6122, 0.4999],\n",
      "        [0.6845, 0.4992],\n",
      "        [0.9201, 0.5022],\n",
      "        [0.8221, 0.5037],\n",
      "        [0.1409, 0.5015],\n",
      "        [0.4087, 0.4967],\n",
      "        [0.5259, 0.4969]])\n",
      "f(x)\n",
      "tensor([0.2907, 0.6517, 0.7632, 0.5354, 0.4878, 0.3333, 0.3947, 0.7624, 0.6612,\n",
      "        0.5924])\n",
      "fXJ\n",
      "tensor([0.0032, 0.0031, 0.0036, 0.0060, 0.0054, 0.0037, 0.0044, 0.0036, 0.0031,\n",
      "        0.0066], grad_fn=<MulBackward0>)\n",
      "loss without jac\n",
      "tensor(0.3253)\n",
      "squared mean\n",
      "tensor(0.2995)\n",
      "loss\n",
      "tensor(1.9766e-05, grad_fn=<MeanBackward0>)\n"
     ]
    }
   ],
   "source": [
    "w = torch.empty(10, NF.n_flow)\n",
    "torch.nn.init.uniform_(w,0,1)\n",
    "\n",
    "print(\"W\")\n",
    "print(w)\n",
    "                    #print(self.format_input(w).requires_grad)\n",
    "print(\"with jacob\")                  # Output a sample of (phase-space point, forward Jacobian)\n",
    "print(NF.format_input(w))\n",
    "\n",
    "print(\"mapped\")\n",
    "print(NF.format_input(100*torch.tan((w-0.5)*(np.pi))))\n",
    "XJ=NF.model(NF.format_input(100*torch.tan((w-0.5)*(np.pi))))\n",
    "\n",
    "\n",
    "                    # Separate the points and their Jacobians:\n",
    "print(\"XJ\")\n",
    "print(XJ)# This sample is fixed, we optimize the Jacobian\n",
    "K = ((XJ[:, :-1]).detach())\n",
    "X=torch.atan(K/100)/np.pi+0.5\n",
    "#X=torch.tan((X-0.5)*(np.pi))\n",
    "print(\"X\")\n",
    "print(X)\n",
    "#print(\"diff\")\n",
    "#print(X[:,0]-w[:,1])\n",
    "\n",
    "f=gaussian\n",
    "print(\"f(x)\")\n",
    "print(f(X))\n",
    "\n",
    "\n",
    "print(\"fXJ\")\n",
    "print(torch.mul(f(X), XJ[:, -1]))\n",
    "\n",
    "print(\"loss without jac\")\n",
    "print(torch.mean(f(X)**2))\n",
    "\n",
    "print(\"squared mean\")\n",
    "print(torch.mean(f(X))**2)\n",
    "\n",
    "print(\"loss\")\n",
    "print(torch.mean(torch.mul(f(X), XJ[:, -1])**2))\n",
    "\n"
   ]
  },
  {
   "cell_type": "code",
   "execution_count": 33,
   "metadata": {},
   "outputs": [
    {
     "data": {
      "image/png": "[encoded data removed]",
      "text/plain": [
       "<Figure size 432x288 with 1 Axes>"
      ]
     },
     "metadata": {
      "needs_background": "light"
     },
     "output_type": "display_data"
    }
   ],
   "source": [
    "xs = np.linspace(0,1,100)\n",
    "ys = np.linspace(1,0,100) # in images the y axis is inverted\n",
    "Xs,Ys = np.meshgrid(xs,ys)\n",
    "zs=lin(np.array(list(zip(Xs.reshape(100*100),Ys.reshape(100*100)))).astype(np.float32)).reshape(100,100)\n",
    "plt.imshow(zs)\n",
    "plt.show()"
   ]
  },
  {
   "cell_type": "code",
   "execution_count": 54,
   "metadata": {},
   "outputs": [
    {
     "name": "stdout",
     "output_type": "stream",
     "text": [
      "reset\n",
      "W\n",
      "tensor([[0.9335, 0.9622],\n",
      "        [0.5436, 0.2371],\n",
      "        [0.5855, 0.5038],\n",
      "        ...,\n",
      "        [0.8563, 0.5714],\n",
      "        [0.7551, 0.0883],\n",
      "        [0.6047, 0.2965]], requires_grad=True)\n",
      "with jacob\n",
      "tensor([[0.9335, 0.9622, 1.0000],\n",
      "        [0.5436, 0.2371, 1.0000],\n",
      "        [0.5855, 0.5038, 1.0000],\n",
      "        ...,\n",
      "        [0.8563, 0.5714, 1.0000],\n",
      "        [0.7551, 0.0883, 1.0000],\n",
      "        [0.6047, 0.2965, 1.0000]], grad_fn=<CatBackward>)\n",
      "XJ\n",
      "tensor([[ 0.9335, -0.0543, -0.0564],\n",
      "        [ 0.5436, -0.0130, -0.0550],\n",
      "        [ 0.5855, -0.0278, -0.0552],\n",
      "        ...,\n",
      "        [ 0.8563, -0.0322, -0.0564],\n",
      "        [ 0.7551, -0.0050, -0.0564],\n",
      "        [ 0.6047, -0.0164, -0.0554]], grad_fn=<CatBackward>)\n",
      "X\n",
      "tensor([[ 0.9335, -0.0543],\n",
      "        [ 0.5436, -0.0130],\n",
      "        [ 0.5855, -0.0278],\n",
      "        ...,\n",
      "        [ 0.8563, -0.0322],\n",
      "        [ 0.7551, -0.0050],\n",
      "        [ 0.6047, -0.0164]])\n",
      "diff\n",
      "tensor([-0.0288,  0.3066,  0.0817,  ...,  0.2848,  0.6668,  0.3081],\n",
      "       grad_fn=<SubBackward0>)\n",
      "f(x)\n",
      "tensor([1.9458, 1.9870, 1.9722,  ..., 1.9678, 1.9950, 1.9836])\n",
      "fXJ\n",
      "tensor([-0.1097, -0.1093, -0.1089,  ..., -0.1110, -0.1124, -0.1098],\n",
      "       grad_fn=<MulBackward0>)\n"
     ]
    }
   ],
   "source": [
    "print(\"reset\")\n",
    "NF.create_model(n_pass_through=1,n_cells=1, nn_width=2, NN=[20,20,20], roll_step=1)\n",
    "\n",
    "w = torch.empty(10000, NF.n_flow, requires_grad=True)\n",
    "torch.nn.init.uniform_(w,0,1)\n",
    "\n",
    "print(\"W\")\n",
    "print(w)\n",
    "                    #print(self.format_input(w).requires_grad)\n",
    "print(\"with jacob\")                  # Output a sample of (phase-space point, forward Jacobian)\n",
    "print(NF.format_input(w))\n",
    "XJ = NF.model(NF.format_input(w))\n",
    "\n",
    "                    # Separate the points and their Jacobians:\n",
    "print(\"XJ\")\n",
    "print(XJ)# This sample is fixed, we optimize the Jacobian\n",
    "X = ((XJ[:, :-1]).detach())\n",
    "print(\"X\")\n",
    "print(X)\n",
    "print(\"diff\")\n",
    "print(X[:,0]-w[:,1])\n",
    "print(\"f(x)\")\n",
    "print(sin(X))\n",
    "\n",
    "print(\"fXJ\")\n",
    "print(torch.mul(sin(X), XJ[:, -1]))"
   ]
  },
  {
   "cell_type": "code",
   "execution_count": null,
   "metadata": {},
   "outputs": [],
   "source": [
    "\"\"\"\n",
    "#a4=fig.add_subplot(143)\n",
    "fig = plt.figure()\n",
    "ax = fig.add_subplot(111, projection='3d')\n",
    "ax.scatter3D(X[:,0],X[:,1],X[:,2])\n",
    "#plt.2d(X[:,0],X[:,1],X[:,2])\n",
    "#ax.set_aspect(aspect=1.)\n",
    "ax.title.set_text('Jacobian after training')\n",
    "ax.tick_params(\n",
    "    axis='both',          # changes apply to the x-axis\n",
    "    which='both',      # both major and minor ticks are affected\n",
    "    bottom=True,      # ticks along the bottom edge are off\n",
    "    left=True,         # ticks along the top edge are off\n",
    "    labelbottom=True,\n",
    "    labelleft=True)\n",
    "\n",
    "\n",
    "NF.create_model(n_pass_through=1,n_cells=1, nn_width=2, NN=[5], roll_step=1)\n",
    "rcParams['axes.labelpad'] = 800\n",
    "z = torch.empty((10000,2)) \n",
    "torch.nn.init.uniform_(z,0,1)\n",
    "\n",
    "w=NF.format_input(z)\n",
    "X=NF.model(w).data.numpy()\n",
    "fig = plt.figure()\n",
    "ax1 = fig.add_subplot(211, projection='3d')\n",
    "ax1.scatter3D(X[:,0],X[:,1],X[:,2])\n",
    "#plt.2d(X[:,0],X[:,1],X[:,2])\n",
    "#ax.set_aspect(aspect=1.)\n",
    "ax1.title.set_text('Jacobian before training')\n",
    "ax1.tick_params(\n",
    "    axis='both',          # changes apply to the x-axis\n",
    "    which='both',      # both major and minor ticks are affected\n",
    "    bottom=True,      # ticks along the bottom edge are off\n",
    "    left=True,         # ticks along the top edge are off\n",
    "    labelbottom=True,\n",
    "    labelleft=True)\n",
    "#ax1.auto_scale_xyz([0.5, 2], [0, 1], [1.55, 1.75])\n",
    "ax1.xaxis._axinfo['label']['space_factor'] = 4.8\n",
    "ax1.zaxis._axinfo['label']['space_factor'] = 8.8\n",
    "rcParams['axes.labelpad'] = 80\n",
    "\n",
    "print(\"\\n\")\n",
    "\"\"\""
   ]
  },
  {
   "cell_type": "code",
   "execution_count": 67,
   "metadata": {},
   "outputs": [
    {
     "name": "stdout",
     "output_type": "stream",
     "text": [
      "tensor(0.4999)\n",
      "tensor(-0.7164)\n"
     ]
    }
   ],
   "source": [
    "w = torch.empty(2000000, 1)\n",
    "torch.nn.init.uniform_(w)\n",
    "print(torch.mean(w))\n",
    "Y=torch.tan((w-0.5)*(np.pi))\n",
    "print(torch.mean(torch.mul(Y,1/(np.pi*(w**2)+np.pi))))\n"
   ]
  },
  {
   "cell_type": "code",
   "execution_count": 45,
   "metadata": {},
   "outputs": [
    {
     "data": {
      "image/png": "[encoded data removed]",
      "text/plain": [
       "<Figure size 432x432 with 1 Axes>"
      ]
     },
     "metadata": {
      "needs_background": "light"
     },
     "output_type": "display_data"
    }
   ],
   "source": [
    "w = torch.empty((1600,2)) \n",
    "torch.nn.init.uniform_(w,0,1)\n",
    "z=100*torch.tan((w-0.5)*(np.pi))\n",
    "Y=NF.format_input(z)\n",
    "X=NF.model(Y)\n",
    "Z=(torch.atan(X)/np.pi+0.5).data.numpy()\n",
    "#print(Z)\n",
    "X=X.data.numpy()\n",
    "z=z.data.numpy()\n",
    "#a3=fig.add_subplot(133)\n",
    "fig = plt.figure(figsize=(6, 6))\n",
    "a3=fig.add_subplot(111)\n",
    "plt.hist2d(X[:,0],X[:,1],bins=2500)\n",
    "axes = plt.gca()\n",
    "axes.set_xlim([-300,300])\n",
    "axes.set_ylim([-3,3])\n",
    "#a3.set_aspect(aspect=1.)\n",
    "\n",
    "\n",
    "a3.title.set_text('Point histogram (PDF)')\n",
    "a3.tick_params(\n",
    "    axis='both',          # changes apply to the x-axis\n",
    "    which='both',      # both major and minor ticks are affected\n",
    "    bottom=True,      # ticks along the bottom edge are off\n",
    "    left=True,         # ticks along the top edge are off\n",
    "    labelbottom=True,\n",
    "    labelleft=True)\n"
   ]
  },
  {
   "cell_type": "code",
   "execution_count": null,
   "metadata": {},
   "outputs": [],
   "source": []
  },
  {
   "cell_type": "code",
   "execution_count": null,
   "metadata": {},
   "outputs": [],
   "source": []
  }
 ],
 "metadata": {
  "kernelspec": {
   "display_name": "Python 3",
   "language": "python",
   "name": "python3"
  },
  "language_info": {
   "codemirror_mode": {
    "name": "ipython",
    "version": 3
   },
   "file_extension": ".py",
   "mimetype": "text/x-python",
   "name": "python",
   "nbconvert_exporter": "python",
   "pygments_lexer": "ipython3",
   "version": "3.7.6"
  },
  "varInspector": {
   "cols": {
    "lenName": 16,
    "lenType": 16,
    "lenVar": 40
   },
   "kernels_config": {
    "python": {
     "delete_cmd_postfix": "",
     "delete_cmd_prefix": "del ",
     "library": "var_list.py",
     "varRefreshCmd": "print(var_dic_list())"
    },
    "r": {
     "delete_cmd_postfix": ") ",
     "delete_cmd_prefix": "rm(",
     "library": "var_list.r",
     "varRefreshCmd": "cat(var_dic_list()) "
    }
   },
   "types_to_exclude": [
    "module",
    "function",
    "builtin_function_or_method",
    "instance",
    "_Feature"
   ],
   "window_display": false
  }
 },
 "nbformat": 4,
 "nbformat_minor": 4
}
