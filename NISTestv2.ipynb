{
 "cells": [
  {
   "cell_type": "code",
   "execution_count": 1,
   "metadata": {},
   "outputs": [],
   "source": [
    "\n",
    "import torch\n",
    "from binNF.normalizing_flows.manager import *\n",
    "import matplotlib.pyplot as plt\n",
    "import numpy as np\n"
   ]
  },
  {
   "cell_type": "code",
   "execution_count": 2,
   "metadata": {},
   "outputs": [],
   "source": [
    "\n",
    "def gaussian(x):\n",
    "    return torch.exp( -torch.sum((x-0.5)**2,axis=-1)/0.3**2 )\n",
    "\n",
    "def con(x):\n",
    "    y=torch.empty(x.shape[0])\n",
    "    return y.fill_(5)\n"
   ]
  },
  {
   "cell_type": "code",
   "execution_count": 3,
   "metadata": {},
   "outputs": [],
   "source": [
    "n_flow = 2      # number of dimensions\n",
    "\n",
    "\n",
    "# We define our NormalizingFlow object \n",
    "NF =  AffineManager(n_flow=n_flow)\n",
    "\n"
   ]
  },
  {
   "cell_type": "code",
   "execution_count": 4,
   "metadata": {},
   "outputs": [
    {
     "name": "stdout",
     "output_type": "stream",
     "text": [
      "0.NN.0.weight tensor([[-0.2853],\n",
      "        [ 0.9199],\n",
      "        [ 0.8565],\n",
      "        [ 0.1262],\n",
      "        [-0.3636],\n",
      "        [-0.5909],\n",
      "        [ 0.2491],\n",
      "        [ 0.5758],\n",
      "        [ 0.9579],\n",
      "        [-0.2255],\n",
      "        [-0.1652],\n",
      "        [ 0.1145],\n",
      "        [ 0.5401],\n",
      "        [ 0.9394],\n",
      "        [ 0.6539],\n",
      "        [-0.9741],\n",
      "        [-0.1880],\n",
      "        [-0.0426],\n",
      "        [ 0.7554],\n",
      "        [-0.4433]]) True\n",
      "0.NN.0.bias tensor([ 0.0181,  0.8698, -0.5194,  0.3641, -0.2087, -0.8449, -0.7960,  0.0415,\n",
      "        -0.3076, -0.7879, -0.5732,  0.4127, -0.1656,  0.1082,  0.1439, -0.4124,\n",
      "        -0.4373, -0.1784, -0.3054, -0.4180]) True\n",
      "0.NN.2.weight tensor([[-0.1957,  0.0144,  0.1865, -0.1965,  0.0358, -0.0523,  0.0675,  0.1106,\n",
      "         -0.0596,  0.0327,  0.1693, -0.0761,  0.1344, -0.0860, -0.0065, -0.0215,\n",
      "          0.0297, -0.0304, -0.1441,  0.0728],\n",
      "        [ 0.1889, -0.0535,  0.0716, -0.1042, -0.1234,  0.0868, -0.0122, -0.0309,\n",
      "          0.0119,  0.1767, -0.0480,  0.1241,  0.1050, -0.0526,  0.1654,  0.1366,\n",
      "         -0.2229,  0.1003,  0.0034,  0.0778],\n",
      "        [ 0.1472, -0.0463, -0.1190, -0.0295, -0.1541,  0.1073,  0.1328,  0.2095,\n",
      "         -0.1064,  0.0660, -0.0731, -0.0458, -0.2118,  0.2026,  0.0698, -0.2032,\n",
      "         -0.1581,  0.1019,  0.1568, -0.0904],\n",
      "        [-0.1216,  0.1148,  0.1736,  0.0793,  0.1186, -0.1596, -0.0351,  0.0731,\n",
      "         -0.0333, -0.0659,  0.0349, -0.0539,  0.0341,  0.1787, -0.1575,  0.0569,\n",
      "         -0.0467, -0.1978,  0.0069,  0.0499],\n",
      "        [-0.0905,  0.0291, -0.0283, -0.2091,  0.0150,  0.1250,  0.0955,  0.1981,\n",
      "         -0.1052, -0.0615,  0.0671,  0.0333, -0.1935, -0.2126, -0.0416,  0.2175,\n",
      "          0.1464, -0.1854,  0.0084, -0.0504]]) True\n",
      "0.NN.2.bias tensor([-0.2111, -0.0845, -0.1590,  0.0509,  0.0329]) True\n",
      "0.NN.4.weight tensor([[-0.2238,  0.0005,  0.1521, -0.0916, -0.3082],\n",
      "        [-0.1828, -0.3007, -0.4357,  0.4438,  0.1970],\n",
      "        [-0.1884,  0.2599,  0.1485, -0.4100,  0.0554],\n",
      "        [ 0.0566,  0.3509, -0.4415,  0.3464,  0.3787],\n",
      "        [-0.2691,  0.3761,  0.1700,  0.4310, -0.2274],\n",
      "        [-0.2551,  0.0400,  0.2743,  0.3106, -0.1654],\n",
      "        [-0.0179,  0.1480, -0.1374,  0.2898,  0.2493],\n",
      "        [-0.0781, -0.1738, -0.3866, -0.0403, -0.0592],\n",
      "        [ 0.3178,  0.0297, -0.2617,  0.3715,  0.1516],\n",
      "        [-0.0415, -0.2381,  0.3376, -0.3948,  0.3587],\n",
      "        [-0.1566, -0.1638, -0.1218,  0.3742, -0.2297],\n",
      "        [ 0.3763, -0.0136, -0.2696, -0.4293,  0.0972],\n",
      "        [ 0.2861,  0.2839, -0.3390, -0.0722, -0.2034],\n",
      "        [-0.0135,  0.1068,  0.4418, -0.2775,  0.2902],\n",
      "        [-0.0378,  0.0546,  0.2756,  0.2070, -0.1938],\n",
      "        [-0.2424,  0.4431,  0.0922, -0.0275, -0.1198],\n",
      "        [ 0.3037, -0.0762, -0.2450,  0.2098, -0.4247],\n",
      "        [ 0.4243,  0.3689, -0.3389, -0.0063, -0.1437],\n",
      "        [-0.1941, -0.3488,  0.3543,  0.1596, -0.3580],\n",
      "        [ 0.2023,  0.1262,  0.1160, -0.3347,  0.1387]]) True\n",
      "0.NN.4.bias tensor([-0.1728, -0.0929,  0.1300, -0.3595, -0.1162,  0.0399, -0.2032,  0.3352,\n",
      "        -0.1005,  0.3912,  0.0479,  0.4163, -0.1878, -0.0314, -0.2544,  0.2060,\n",
      "        -0.1977,  0.2236,  0.4304, -0.3595]) True\n",
      "0.NN.6.weight tensor([[ 0.1019,  0.1851, -0.0682, -0.1547, -0.0139,  0.1725, -0.1947,  0.2147,\n",
      "         -0.2099, -0.1823,  0.0959, -0.1991, -0.2150,  0.0355, -0.1220, -0.1084,\n",
      "         -0.1221,  0.1387, -0.1031,  0.1390],\n",
      "        [-0.2037,  0.0323, -0.1244, -0.2182, -0.1420, -0.0474,  0.0132, -0.1429,\n",
      "          0.0011,  0.2139, -0.0609,  0.1600, -0.2113,  0.0493,  0.0655,  0.0848,\n",
      "         -0.0994,  0.1820, -0.0427, -0.1256]]) True\n",
      "0.NN.6.bias tensor([-0.1640,  0.1363]) True\n"
     ]
    }
   ],
   "source": [
    "#The model is created\n",
    "NF.create_model(n_pass_through=1,n_cells=1, nn_width=2, NN=[20,5,20], roll_step=1)\n",
    "optim = torch.optim.Adamax(NF.model.parameters(),lr=1e-3, weight_decay=0) \n"
   ]
  },
  {
   "cell_type": "code",
   "execution_count": 5,
   "metadata": {},
   "outputs": [
    {
     "data": {
      "application/vnd.jupyter.widget-view+json": {
       "model_id": "",
       "version_major": 2,
       "version_minor": 0
      },
      "text/plain": [
       "HBox(children=(FloatProgress(value=0.0, description='Loss: 0.000e+00 | Epoch', max=500.0, style=ProgressStyle(…"
      ]
     },
     "metadata": {},
     "output_type": "display_data"
    },
    {
     "name": "stdout",
     "output_type": "stream",
     "text": [
      "\r"
     ]
    }
   ],
   "source": [
    "history = NF._train_variance_forward(con,epochs=500,batch_size=50000,optimizer_object=optim, logdir=\"./logs/tmp/\")\n"
   ]
  },
  {
   "cell_type": "code",
   "execution_count": 6,
   "metadata": {},
   "outputs": [
    {
     "name": "stdout",
     "output_type": "stream",
     "text": [
      "1265451.75\n"
     ]
    },
    {
     "name": "stderr",
     "output_type": "stream",
     "text": [
      "/home/niklas/miniconda3/envs/cs231n/lib/python3.7/site-packages/ipykernel_launcher.py:11: RuntimeWarning: overflow encountered in exp\n",
      "  # This is added back by InteractiveShellApp.init_path()\n"
     ]
    },
    {
     "data": {
      "image/png": "[encoded data removed]",
      "text/plain": [
       "<Figure size 864x288 with 3 Axes>"
      ]
     },
     "metadata": {
      "needs_background": "light"
     },
     "output_type": "display_data"
    }
   ],
   "source": [
    "losses=[]\n",
    "for key, value in history.items():\n",
    "    losses.append(value[\"loss\"])\n",
    "\n",
    "fig = plt.figure(figsize=(12, 4))\n",
    "a1=fig.add_subplot(131)\n",
    "plt.plot(losses)\n",
    "print(min(losses))\n",
    "a1.title.set_text('Loss')\n",
    "a2=fig.add_subplot(132)\n",
    "plt.plot(np.sqrt(np.exp(losses)))\n",
    "a2.title.set_text('Standard Deviation')\n",
    "\n",
    "w = torch.empty((10000,2)) \n",
    "torch.nn.init.uniform_(w)\n",
    "\n",
    "w=NF.format_input(w)\n",
    "\n",
    "X=NF.model(w).data.numpy()\n",
    "\n",
    "a3=fig.add_subplot(133)\n",
    "plt.hist2d(X[:,0],X[:,1],bins=50)\n",
    "a3.set_aspect(aspect=1.)\n",
    "a3.title.set_text('Point histogram (PDF)')\n",
    "a3.tick_params(\n",
    "    axis='both',          # changes apply to the x-axis\n",
    "    which='both',      # both major and minor ticks are affected\n",
    "    bottom=False,      # ticks along the bottom edge are off\n",
    "    left=False,         # ticks along the top edge are off\n",
    "    labelbottom=False,\n",
    "    labelleft=False)\n",
    "\n",
    "\n"
   ]
  },
  {
   "cell_type": "code",
   "execution_count": 7,
   "metadata": {},
   "outputs": [
    {
     "name": "stdout",
     "output_type": "stream",
     "text": [
      "W\n",
      "tensor([[0.1201, 0.9180],\n",
      "        [0.3369, 0.1845],\n",
      "        [0.8293, 0.2339],\n",
      "        ...,\n",
      "        [0.9650, 0.1917],\n",
      "        [0.3599, 0.0649],\n",
      "        [0.7264, 0.2298]], requires_grad=True)\n",
      "with jacob\n",
      "tensor([[0.1201, 0.9180, 1.0000],\n",
      "        [0.3369, 0.1845, 1.0000],\n",
      "        [0.8293, 0.2339, 1.0000],\n",
      "        ...,\n",
      "        [0.9650, 0.1917, 1.0000],\n",
      "        [0.3599, 0.0649, 1.0000],\n",
      "        [0.7264, 0.2298, 1.0000]], grad_fn=<CatBackward>)\n",
      "XJ\n",
      "tensor([[1.3725, 0.1201, 1.0169],\n",
      "        [0.6095, 0.3369, 1.0059],\n",
      "        [0.6235, 0.8293, 1.0005],\n",
      "        ...,\n",
      "        [0.5720, 0.9650, 1.0002],\n",
      "        [0.4876, 0.3599, 1.0053],\n",
      "        [0.6267, 0.7264, 1.0008]], grad_fn=<CatBackward>)\n",
      "X\n",
      "tensor([[1.3725, 0.1201],\n",
      "        [0.6095, 0.3369],\n",
      "        [0.6235, 0.8293],\n",
      "        ...,\n",
      "        [0.5720, 0.9650],\n",
      "        [0.4876, 0.3599],\n",
      "        [0.6267, 0.7264]])\n",
      "f(x)\n",
      "tensor([5., 5., 5.,  ..., 5., 5., 5.])\n",
      "fXJ\n",
      "tensor([5.0843, 5.0296, 5.0023,  ..., 5.0011, 5.0263, 5.0039],\n",
      "       grad_fn=<MulBackward0>)\n",
      "reset\n",
      "W\n",
      "tensor([[0.9224, 0.3010],\n",
      "        [0.2698, 0.8602],\n",
      "        [0.0292, 0.2016],\n",
      "        ...,\n",
      "        [0.6531, 0.5662],\n",
      "        [0.1231, 0.6095],\n",
      "        [0.0253, 0.5568]], requires_grad=True)\n",
      "with jacob\n",
      "tensor([[0.9224, 0.3010, 1.0000],\n",
      "        [0.2698, 0.8602, 1.0000],\n",
      "        [0.0292, 0.2016, 1.0000],\n",
      "        ...,\n",
      "        [0.6531, 0.5662, 1.0000],\n",
      "        [0.1231, 0.6095, 1.0000],\n",
      "        [0.0253, 0.5568, 1.0000]], grad_fn=<CatBackward>)\n",
      "XJ\n",
      "tensor([[1.0889, 0.9224, 1.7394],\n",
      "        [2.0606, 0.2698, 1.7418],\n",
      "        [0.9139, 0.0292, 1.7450],\n",
      "        ...,\n",
      "        [1.5472, 0.6531, 1.7377],\n",
      "        [1.6253, 0.1231, 1.7442],\n",
      "        [1.5337, 0.0253, 1.7450]], grad_fn=<CatBackward>)\n",
      "X\n",
      "tensor([[1.0889, 0.9224],\n",
      "        [2.0606, 0.2698],\n",
      "        [0.9139, 0.0292],\n",
      "        ...,\n",
      "        [1.5472, 0.6531],\n",
      "        [1.6253, 0.1231],\n",
      "        [1.5337, 0.0253]])\n",
      "f(x)\n",
      "tensor([5., 5., 5.,  ..., 5., 5., 5.])\n",
      "fXJ\n",
      "tensor([8.6970, 8.7089, 8.7251,  ..., 8.6883, 8.7211, 8.7252],\n",
      "       grad_fn=<MulBackward0>)\n"
     ]
    }
   ],
   "source": [
    "w = torch.empty(10000, NF.n_flow, requires_grad=True)\n",
    "torch.nn.init.uniform_(w,0,1)\n",
    "\n",
    "print(\"W\")\n",
    "print(w)\n",
    "                    #print(self.format_input(w).requires_grad)\n",
    "print(\"with jacob\")                  # Output a sample of (phase-space point, forward Jacobian)\n",
    "print(NF.format_input(w))\n",
    "XJ = NF.model(NF.format_input(w))\n",
    "\n",
    "                    # Separate the points and their Jacobians:\n",
    "print(\"XJ\")\n",
    "print(XJ)# This sample is fixed, we optimize the Jacobian\n",
    "X = ((XJ[:, :-1]).detach())\n",
    "print(\"X\")\n",
    "print(X)\n",
    "\n",
    "print(\"f(x)\")\n",
    "print(con(X))\n",
    "\n",
    "print(\"fXJ\")\n",
    "print(torch.mul(con(X), XJ[:, -1]))\n",
    "print(\"reset\")\n",
    "NF.create_model(n_pass_through=1,n_cells=1, nn_width=2, NN=[20,20,20], roll_step=1)\n",
    "\n",
    "w = torch.empty(10000, NF.n_flow, requires_grad=True)\n",
    "torch.nn.init.uniform_(w,0,1)\n",
    "\n",
    "print(\"W\")\n",
    "print(w)\n",
    "                    #print(self.format_input(w).requires_grad)\n",
    "print(\"with jacob\")                  # Output a sample of (phase-space point, forward Jacobian)\n",
    "print(NF.format_input(w))\n",
    "XJ = NF.model(NF.format_input(w))\n",
    "\n",
    "                    # Separate the points and their Jacobians:\n",
    "print(\"XJ\")\n",
    "print(XJ)# This sample is fixed, we optimize the Jacobian\n",
    "X = ((XJ[:, :-1]).detach())\n",
    "print(\"X\")\n",
    "print(X)\n",
    "\n",
    "print(\"f(x)\")\n",
    "print(con(X))\n",
    "\n",
    "print(\"fXJ\")\n",
    "print(torch.mul(con(X), XJ[:, -1]))"
   ]
  },
  {
   "cell_type": "code",
   "execution_count": null,
   "metadata": {},
   "outputs": [],
   "source": []
  },
  {
   "cell_type": "code",
   "execution_count": 29,
   "metadata": {},
   "outputs": [
    {
     "name": "stdout",
     "output_type": "stream",
     "text": [
      "0.NN.0.weight tensor([[ 0.1116],\n",
      "        [-0.0387],\n",
      "        [ 0.3578],\n",
      "        [ 0.7651],\n",
      "        [-0.7277]]) True\n",
      "0.NN.0.bias tensor([ 1.0353,  0.9534,  0.2310,  0.5386, -0.1639]) True\n",
      "0.NN.2.weight tensor([[ 0.1084, -0.0408,  0.7272,  0.7484,  0.2530],\n",
      "        [ 0.5224,  0.3947,  0.4491, -0.0961,  0.0653],\n",
      "        [-0.0135,  0.5671,  0.2839,  0.5571,  0.1864],\n",
      "        [ 0.5418,  0.1180,  0.8486,  0.5797,  0.4172],\n",
      "        [ 0.7296,  0.6251, -0.1409,  0.5369, -0.4113]]) True\n",
      "0.NN.2.bias tensor([ 0.6872,  0.5182,  0.1475, -0.0476,  0.6494]) True\n",
      "0.NN.4.weight tensor([[ 0.0330,  0.2465, -0.1613,  0.1293, -0.3344],\n",
      "        [ 0.0649,  0.7305,  0.7565,  0.7084,  0.5137],\n",
      "        [-0.1068,  0.3498,  0.3618,  0.2069,  0.4262],\n",
      "        [ 0.7759,  0.2592,  0.2108,  0.7214,  0.5042],\n",
      "        [-0.2300, -0.3491,  0.1569, -0.0784, -0.2705]]) True\n",
      "0.NN.4.bias tensor([0.3389, 0.4174, 0.2853, 0.5179, 0.1786]) True\n",
      "0.NN.6.weight tensor([[-0.3977,  0.1800, -0.0533, -0.3827, -0.2129],\n",
      "        [ 0.2211, -0.7007, -0.1815, -0.6012, -0.2781]]) True\n",
      "0.NN.6.bias tensor([ 0.2603, -0.5008]) True\n"
     ]
    }
   ],
   "source": [
    "for name, param in NF.model.named_parameters():\n",
    "    print (name, param.data, param.requires_grad)"
   ]
  },
  {
   "cell_type": "code",
   "execution_count": null,
   "metadata": {},
   "outputs": [],
   "source": []
  }
 ],
 "metadata": {
  "kernelspec": {
   "display_name": "Python 3",
   "language": "python",
   "name": "python3"
  },
  "language_info": {
   "codemirror_mode": {
    "name": "ipython",
    "version": 3
   },
   "file_extension": ".py",
   "mimetype": "text/x-python",
   "name": "python",
   "nbconvert_exporter": "python",
   "pygments_lexer": "ipython3",
   "version": "3.7.6"
  },
  "varInspector": {
   "cols": {
    "lenName": 16,
    "lenType": 16,
    "lenVar": 40
   },
   "kernels_config": {
    "python": {
     "delete_cmd_postfix": "",
     "delete_cmd_prefix": "del ",
     "library": "var_list.py",
     "varRefreshCmd": "print(var_dic_list())"
    },
    "r": {
     "delete_cmd_postfix": ") ",
     "delete_cmd_prefix": "rm(",
     "library": "var_list.r",
     "varRefreshCmd": "cat(var_dic_list()) "
    }
   },
   "types_to_exclude": [
    "module",
    "function",
    "builtin_function_or_method",
    "instance",
    "_Feature"
   ],
   "window_display": false
  }
 },
 "nbformat": 4,
 "nbformat_minor": 4
}
