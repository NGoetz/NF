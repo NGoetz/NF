{
 "cells": [
  {
   "cell_type": "code",
   "execution_count": 1,
   "metadata": {},
   "outputs": [],
   "source": [
    "import torch\n",
    "from binNF.normalizing_flows.manager import *\n",
    "import matplotlib.pyplot as plt\n",
    "import numpy as np\n",
    "import torch.multiprocessing as mp\n"
   ]
  },
  {
   "cell_type": "code",
   "execution_count": 2,
   "metadata": {},
   "outputs": [],
   "source": [
    "def step(x):\n",
    "    a=torch.zeros_like(x[:,0])\n",
    "    b=torch.ones_like(x[:,0])\n",
    "   \n",
    "    return torch.where(torch.max(abs(x[:,0]), abs(x[:,1]))>1,a,b)\n",
    "\n",
    "def g(x): #box: expect 0.25 in dim2\n",
    "   \n",
    "    q=torch.max(torch.abs(x),dim=-1).values\n",
    "  \n",
    "    a=torch.zeros_like(q)\n",
    "    b=torch.ones_like(q)\n",
    "   \n",
    "    return torch.where(q<0.5,a,b)\n",
    "\n",
    "def gaussian(x):\n",
    "    return torch.exp( -((x[:,0]-0.5)**2+(x[:,1]-0.5)**2)/(0.3**2)) \n",
    "\n",
    "def camel(x):\n",
    "    return torch.exp( -((x[:,0]-0.75)**2+(x[:,1]-0.75)**2)/(0.2**2))+torch.exp( -((x[:,0]-0.25)**2+(x[:,1]-0.25)**2)/(0.2**2))\n",
    "\n",
    "def gaussianb(x):\n",
    "    return torch.exp( -(x)**2)[:,0]\n",
    "\n",
    "def gaussianbnp(x):\n",
    "    return np.exp( -((x[:,0]+1)**2+(x[:,1])**2) )\n",
    "\n",
    "def gaussiannp(x):\n",
    "    return np.exp( -(x[:,0])**2 )\n",
    "\n",
    "def con(x):\n",
    "    y=torch.empty(x.shape[0])\n",
    "    return y.fill_(5)\n",
    "\n",
    "def sin(x):\n",
    "    return 2+torch.sin(x[:,1])\n",
    "\n",
    "def lin(x):\n",
    "    return 0.2*x[:,0]+0.5\n",
    "\n",
    "def sinnp(x):\n",
    "    return 2+np.sin(x[:,1])\n",
    "\n",
    "def tanp(r):\n",
    "    return (1+((torch.tan((r-0.5)*np.pi))**2))*np.pi"
   ]
  },
  {
   "cell_type": "code",
   "execution_count": 3,
   "metadata": {},
   "outputs": [],
   "source": [
    "n_flow = 2      # number of dimensions\n",
    "\n",
    " \n",
    "# We define our NormalizingFlow object \n",
    "NF =  PWQuadManager(n_flow=n_flow)\n",
    "\n"
   ]
  },
  {
   "cell_type": "code",
   "execution_count": 18,
   "metadata": {
    "scrolled": true
   },
   "outputs": [
    {
     "name": "stdout",
     "output_type": "stream",
     "text": [
      "tensor([[0.8259, 0.2689],\n",
      "        [0.2952, 0.2497],\n",
      "        [0.1628, 0.3456],\n",
      "        [0.3115, 0.5315],\n",
      "        [0.0461, 0.9352],\n",
      "        [0.3309, 0.9506],\n",
      "        [0.8569, 0.9783],\n",
      "        [0.9107, 0.7157],\n",
      "        [0.4549, 0.6370],\n",
      "        [0.8753, 0.4072]], grad_fn=<SliceBackward>)\n"
     ]
    }
   ],
   "source": [
    "\n",
    "#The model is created\n",
    "NF.create_model(n_pass_through=1,n_cells=2, n_bins=10, NN=[10,10,10,10,10], roll_step=1) \n",
    "optim = torch.optim.Adamax(NF._model.parameters(),lr=1e-4, weight_decay=2.78e-07) \n",
    "\n",
    "\n",
    "\n",
    "\n",
    "w = torch.empty(10, NF.n_flow)\n",
    "torch.nn.init.uniform_(w)\n",
    "XJ = NF.model(NF.format_input(w,dev=torch.device(\"cpu\")))\n",
    "X = (XJ[:, :-1])\n",
    "print(X)\n"
   ]
  },
  {
   "cell_type": "code",
   "execution_count": 19,
   "metadata": {},
   "outputs": [
    {
     "name": "stdout",
     "output_type": "stream",
     "text": [
      "Torch save not possible\n"
     ]
    },
    {
     "data": {
      "application/vnd.jupyter.widget-view+json": {
       "model_id": "",
       "version_major": 2,
       "version_minor": 0
      },
      "text/plain": [
       "HBox(children=(FloatProgress(value=0.0, description='Loss: 0.000e+00 | Epoch', max=1000.0, style=ProgressStyle…"
      ]
     },
     "metadata": {},
     "output_type": "display_data"
    },
    {
     "name": "stdout",
     "output_type": "stream",
     "text": [
      "Torch save not possible\n"
     ]
    }
   ],
   "source": [
    "\n",
    "history=NF._train_variance_forward_seq(camel,optim,\"./logs/tmp/\",10000,1000,0,True, True,True)\n",
    "\n",
    "\n",
    "#go through coupling cell again, hypop search 1000, choose optimium, investigate variance"
   ]
  },
  {
   "cell_type": "code",
   "execution_count": 20,
   "metadata": {},
   "outputs": [
    {
     "name": "stdout",
     "output_type": "stream",
     "text": [
      "Initial loss\n",
      "tensor(0.1238)\n",
      "Epoch of best result\n",
      "817\n",
      "Best loss\n",
      "tensor(0.0770, grad_fn=<MeanBackward0>)\n",
      "Best loss relative\n",
      "tensor(0.6217, grad_fn=<DivBackward0>)\n",
      "Function evaluations\n",
      "8190000\n"
     ]
    },
    {
     "data": {
      "text/plain": [
       "'      \\n#print(NF.model)\\nlosses=[]\\nfor key, value in NF.history.items():\\n    losses.append(value[\"loss\"])\\n\\nfig = plt.figure(figsize=(12, 4))\\na1=fig.add_subplot(131)\\nplt.plot(losses)\\n\\na1.title.set_text(\\'Loss\\')\\na2=fig.add_subplot(132)\\nplt.plot(np.sqrt(np.exp(losses)))\\na2.title.set_text(\\'Standard Deviation\\')\\n\\n'"
      ]
     },
     "execution_count": 20,
     "metadata": {},
     "output_type": "execute_result"
    }
   ],
   "source": [
    "\n",
    "print('Initial loss')\n",
    "print(NF.int_loss)\n",
    "print('Epoch of best result')\n",
    "print(NF.best_epoch)\n",
    "print('Best loss')\n",
    "print(NF.best_loss)\n",
    "print('Best loss relative')\n",
    "print(NF.best_loss_rel)\n",
    "print('Function evaluations')\n",
    "print(NF.best_func_count)\n",
    "\"\"\"      \n",
    "#print(NF.model)\n",
    "losses=[]\n",
    "for key, value in NF.history.items():\n",
    "    losses.append(value[\"loss\"])\n",
    "\n",
    "fig = plt.figure(figsize=(12, 4))\n",
    "a1=fig.add_subplot(131)\n",
    "plt.plot(losses)\n",
    "\n",
    "a1.title.set_text('Loss')\n",
    "a2=fig.add_subplot(132)\n",
    "plt.plot(np.sqrt(np.exp(losses)))\n",
    "a2.title.set_text('Standard Deviation')\n",
    "\n",
    "\"\"\"\n",
    "\n",
    "\n"
   ]
  },
  {
   "cell_type": "code",
   "execution_count": 11,
   "metadata": {},
   "outputs": [
    {
     "name": "stdout",
     "output_type": "stream",
     "text": [
      "W\n",
      "tensor([[0.8735, 0.8214],\n",
      "        [0.3355, 0.7534],\n",
      "        [0.3476, 0.9583],\n",
      "        [0.6777, 0.0925],\n",
      "        [0.5267, 0.8377],\n",
      "        [0.0271, 0.6551],\n",
      "        [0.2251, 0.5799],\n",
      "        [0.8015, 0.2300],\n",
      "        [0.6072, 0.7349],\n",
      "        [0.7512, 0.8764],\n",
      "        [0.7042, 0.7676],\n",
      "        [0.1980, 0.8055],\n",
      "        [0.2014, 0.2365],\n",
      "        [0.1202, 0.4900],\n",
      "        [0.5486, 0.8155],\n",
      "        [0.2920, 0.0696],\n",
      "        [0.2912, 0.3334],\n",
      "        [0.2302, 0.3249],\n",
      "        [0.1362, 0.2848],\n",
      "        [0.0941, 0.2388],\n",
      "        [0.5034, 0.8582],\n",
      "        [0.4246, 0.2707],\n",
      "        [0.7441, 0.9688],\n",
      "        [0.3914, 0.8287],\n",
      "        [0.7314, 0.9466],\n",
      "        [0.3634, 0.6738],\n",
      "        [0.5428, 0.6822],\n",
      "        [0.9415, 0.6112],\n",
      "        [0.9460, 0.2324],\n",
      "        [0.8106, 0.2091],\n",
      "        [0.9338, 0.6363],\n",
      "        [0.6436, 0.8144],\n",
      "        [0.9323, 0.7901],\n",
      "        [0.3414, 0.5618],\n",
      "        [0.8846, 0.1560],\n",
      "        [0.5221, 0.2339],\n",
      "        [0.4105, 0.2649],\n",
      "        [0.7066, 0.6571],\n",
      "        [0.7210, 0.1155],\n",
      "        [0.1277, 0.2099]])\n",
      "with jacob\n",
      "tensor([[0.8735, 0.8214, 1.0000],\n",
      "        [0.3355, 0.7534, 1.0000],\n",
      "        [0.3476, 0.9583, 1.0000],\n",
      "        [0.6777, 0.0925, 1.0000],\n",
      "        [0.5267, 0.8377, 1.0000],\n",
      "        [0.0271, 0.6551, 1.0000],\n",
      "        [0.2251, 0.5799, 1.0000],\n",
      "        [0.8015, 0.2300, 1.0000],\n",
      "        [0.6072, 0.7349, 1.0000],\n",
      "        [0.7512, 0.8764, 1.0000],\n",
      "        [0.7042, 0.7676, 1.0000],\n",
      "        [0.1980, 0.8055, 1.0000],\n",
      "        [0.2014, 0.2365, 1.0000],\n",
      "        [0.1202, 0.4900, 1.0000],\n",
      "        [0.5486, 0.8155, 1.0000],\n",
      "        [0.2920, 0.0696, 1.0000],\n",
      "        [0.2912, 0.3334, 1.0000],\n",
      "        [0.2302, 0.3249, 1.0000],\n",
      "        [0.1362, 0.2848, 1.0000],\n",
      "        [0.0941, 0.2388, 1.0000],\n",
      "        [0.5034, 0.8582, 1.0000],\n",
      "        [0.4246, 0.2707, 1.0000],\n",
      "        [0.7441, 0.9688, 1.0000],\n",
      "        [0.3914, 0.8287, 1.0000],\n",
      "        [0.7314, 0.9466, 1.0000],\n",
      "        [0.3634, 0.6738, 1.0000],\n",
      "        [0.5428, 0.6822, 1.0000],\n",
      "        [0.9415, 0.6112, 1.0000],\n",
      "        [0.9460, 0.2324, 1.0000],\n",
      "        [0.8106, 0.2091, 1.0000],\n",
      "        [0.9338, 0.6363, 1.0000],\n",
      "        [0.6436, 0.8144, 1.0000],\n",
      "        [0.9323, 0.7901, 1.0000],\n",
      "        [0.3414, 0.5618, 1.0000],\n",
      "        [0.8846, 0.1560, 1.0000],\n",
      "        [0.5221, 0.2339, 1.0000],\n",
      "        [0.4105, 0.2649, 1.0000],\n",
      "        [0.7066, 0.6571, 1.0000],\n",
      "        [0.7210, 0.1155, 1.0000],\n",
      "        [0.1277, 0.2099, 1.0000]])\n",
      "XJ\n",
      "tensor([[ 0.8306,  1.4394,  0.8861],\n",
      "        [ 0.7065,  0.6224,  0.9194],\n",
      "        [ 0.9715,  0.5010,  0.8781],\n",
      "        [ 0.1472,  0.7407,  0.7388],\n",
      "        [ 0.8620,  0.7716,  0.5798],\n",
      "        [ 0.6354,  0.0923,  1.1683],\n",
      "        [ 0.4667,  0.2470,  0.5377],\n",
      "        [ 0.3193,  0.9909,  2.7053],\n",
      "        [ 0.7364,  0.8303,  0.3279],\n",
      "        [ 0.9491,  1.1778,  0.6369],\n",
      "        [ 0.8583,  1.0004,  0.4050],\n",
      "        [ 0.7784,  0.4284,  3.0028],\n",
      "        [ 0.1528,  0.2089,  0.2752],\n",
      "        [ 0.4305,  0.1453,  0.7453],\n",
      "        [ 0.8978,  0.7848,  0.3659],\n",
      "        [ 0.0602,  0.3112,  0.3588],\n",
      "        [ 0.1863,  0.2543,  0.1681],\n",
      "        [ 0.2058,  0.2192,  0.1738],\n",
      "        [ 0.1971,  0.1452,  0.2784],\n",
      "        [ 0.1954,  0.1197,  0.4707],\n",
      "        [ 0.8983,  0.7500,  1.0568],\n",
      "        [ 0.3615,  0.4835,  1.3554],\n",
      "        [ 1.0195,  1.3042,  0.2916],\n",
      "        [ 0.9315,  0.3926,  0.9359],\n",
      "        [ 1.0062,  1.1515,  0.3060],\n",
      "        [ 0.7524,  0.9038,  0.2169],\n",
      "        [ 0.7517,  1.1253,  0.4617],\n",
      "        [ 0.6619,  2.1832,  1.6897],\n",
      "        [ 0.2979,  1.6301, 12.6870],\n",
      "        [ 0.2610,  0.2482,  0.4683],\n",
      "        [ 0.6807,  1.9089,  2.6893],\n",
      "        [ 0.8258,  0.9611,  0.2918],\n",
      "        [ 0.8164,  1.6250,  0.5142],\n",
      "        [ 0.5160,  0.7274,  0.6040],\n",
      "        [ 0.1641,  1.0354,  1.9691],\n",
      "        [ 0.3107,  0.5856,  1.2646],\n",
      "        [ 0.3587,  0.4667,  1.5130],\n",
      "        [ 0.8009,  1.0741,  0.6396],\n",
      "        [ 0.1600,  0.8126,  1.1830],\n",
      "        [ 0.1606,  0.1473,  0.4879]], grad_fn=<CatBackward>)\n",
      "XJ2\n",
      "tensor([[0.8303, 1.4466, 0.8891],\n",
      "        [0.7053, 0.6224, 0.9290],\n",
      "        [0.9702, 0.5059, 0.9187],\n",
      "        [0.1484, 0.7409, 0.7401],\n",
      "        [0.8631, 0.7740, 0.6159],\n",
      "        [0.6348, 0.0904, 1.1468],\n",
      "        [0.4634, 0.2399, 0.5325],\n",
      "        [0.3247, 0.9475, 2.7659],\n",
      "        [0.7362, 0.8340, 0.3455],\n",
      "        [0.9458, 1.1926, 0.6339],\n",
      "        [0.8703, 0.9916, 0.3550],\n",
      "        [0.7762, 0.4346, 3.0711],\n",
      "        [0.1523, 0.2089, 0.2768],\n",
      "        [0.4308, 0.1455, 0.7454],\n",
      "        [0.8959, 0.7897, 0.3888],\n",
      "        [0.0599, 0.3113, 0.3605],\n",
      "        [0.1859, 0.2542, 0.1696],\n",
      "        [0.2052, 0.2189, 0.1743],\n",
      "        [0.1989, 0.1436, 0.2810],\n",
      "        [0.1962, 0.1191, 0.4698],\n",
      "        [0.8982, 0.7544, 1.1206],\n",
      "        [0.3619, 0.4853, 1.3747],\n",
      "        [1.0159, 1.3133, 0.2970],\n",
      "        [0.9203, 0.5479, 0.8982],\n",
      "        [1.0020, 1.1502, 0.3203],\n",
      "        [0.7483, 0.8180, 0.2345],\n",
      "        [0.7518, 1.1344, 0.4375],\n",
      "        [0.6637, 2.1490, 1.1544],\n",
      "        [0.3009, 2.0355, 7.7405],\n",
      "        [0.2632, 0.2358, 0.4672],\n",
      "        [0.6796, 1.8273, 2.2974],\n",
      "        [0.8273, 0.9667, 0.2714],\n",
      "        [0.8149, 1.6368, 0.5179],\n",
      "        [0.5145, 0.7200, 0.6146],\n",
      "        [0.1638, 1.0305, 1.9548],\n",
      "        [0.3120, 0.5510, 1.2687],\n",
      "        [0.3539, 0.4731, 1.4984],\n",
      "        [0.8107, 1.0512, 0.6478],\n",
      "        [0.1597, 0.8100, 1.2029],\n",
      "        [0.1610, 0.1472, 0.4937]], grad_fn=<CatBackward>)\n"
     ]
    },
    {
     "data": {
      "text/plain": [
       "'\\nf=gaussian\\nprint(\"f(x)\")\\nprint(f(X))\\n\\n\\nprint(\"fXJ\")\\nprint(torch.mul(f(X), XJ[:, -1]))\\n\\nprint(\"loss without jac\")\\nprint(torch.mean(f(X)**2))\\n\\nprint(\"squared mean\")\\nprint(torch.mean(f(X))**2)\\n\\nprint(\"loss\")\\nprint(torch.mean(torch.mul(f(X), XJ[:, -1])**2))\\n\\n'"
      ]
     },
     "execution_count": 11,
     "metadata": {},
     "output_type": "execute_result"
    }
   ],
   "source": [
    "\n",
    "w = torch.empty(40, NF.n_flow)\n",
    "torch.nn.init.uniform_(w)\n",
    "\n",
    "print(\"W\")\n",
    "print(w)\n",
    "                    #print(self.format_input(w).requires_grad)\n",
    "print(\"with jacob\")                  # Output a sample of (phase-space point, forward Jacobian)\n",
    "print(NF.format_input(w,torch.device(\"cpu\")))\n",
    "\n",
    "#print(\"mapped\")\n",
    "#print(NF.format_input(100*torch.tan((w-0.5)*(np.pi))))\n",
    "XJ=NF.model(NF.format_input(w,torch.device(\"cpu\")))\n",
    "\n",
    "\n",
    "                    # Separate the points and their Jacobians:\n",
    "print(\"XJ\")\n",
    "print(XJ)# This sample is fixed, we optimize the Jacobian\n",
    "\n",
    "XJ2=NF.best_model(NF.format_input(w,torch.device(\"cpu\")))\n",
    "\n",
    "\n",
    "                    # Separate the points and their Jacobians:\n",
    "print(\"XJ2\")\n",
    "print(XJ2)\n",
    "\n",
    "\"\"\"\n",
    "f=gaussian\n",
    "print(\"f(x)\")\n",
    "print(f(X))\n",
    "\n",
    "\n",
    "print(\"fXJ\")\n",
    "print(torch.mul(f(X), XJ[:, -1]))\n",
    "\n",
    "print(\"loss without jac\")\n",
    "print(torch.mean(f(X)**2))\n",
    "\n",
    "print(\"squared mean\")\n",
    "print(torch.mean(f(X))**2)\n",
    "\n",
    "print(\"loss\")\n",
    "print(torch.mean(torch.mul(f(X), XJ[:, -1])**2))\n",
    "\n",
    "\"\"\""
   ]
  },
  {
   "cell_type": "code",
   "execution_count": 49,
   "metadata": {},
   "outputs": [
    {
     "data": {
      "image/png": "[encoded data removed]",
      "text/plain": [
       "<Figure size 432x288 with 1 Axes>"
      ]
     },
     "metadata": {
      "needs_background": "light"
     },
     "output_type": "display_data"
    }
   ],
   "source": [
    "xs = np.linspace(-10,10,100)\n",
    "ys = np.linspace(10,-10,100) # in images the y axis is inverted\n",
    "Xs,Ys = np.meshgrid(xs,ys)\n",
    "zs=gaussianbnp(np.array(list(zip(Xs.reshape(100*100),Ys.reshape(100*100)))).astype(np.float32)).reshape(100,100)\n",
    "plt.imshow(zs)\n",
    "plt.show()"
   ]
  },
  {
   "cell_type": "code",
   "execution_count": 22,
   "metadata": {},
   "outputs": [
    {
     "name": "stdout",
     "output_type": "stream",
     "text": [
      "reset\n",
      "W\n",
      "tensor([[0.6108, 0.7451],\n",
      "        [0.3028, 0.2412],\n",
      "        [0.2823, 0.1151],\n",
      "        ...,\n",
      "        [0.5725, 0.1838],\n",
      "        [0.8225, 0.9309],\n",
      "        [0.1988, 0.2423]], requires_grad=True)\n",
      "with jacob\n",
      "tensor([[0.6108, 0.7451, 1.0000],\n",
      "        [0.3028, 0.2412, 1.0000],\n",
      "        [0.2823, 0.1151, 1.0000],\n",
      "        ...,\n",
      "        [0.5725, 0.1838, 1.0000],\n",
      "        [0.8225, 0.9309, 1.0000],\n",
      "        [0.1988, 0.2423, 1.0000]], grad_fn=<CatBackward>)\n",
      "XJ\n",
      "tensor([[0.6108, 0.7238, 0.7407],\n",
      "        [0.3028, 0.2571, 1.1249],\n",
      "        [0.2823, 0.1301, 1.1378],\n",
      "        ...,\n",
      "        [0.5725, 0.1827, 1.4329],\n",
      "        [0.8225, 0.9263, 1.0666],\n",
      "        [0.1988, 0.2883, 0.6346]], grad_fn=<CatBackward>)\n",
      "X\n",
      "tensor([[0.6108, 0.7238],\n",
      "        [0.3028, 0.2571],\n",
      "        [0.2823, 0.1301],\n",
      "        ...,\n",
      "        [0.5725, 0.1827],\n",
      "        [0.8225, 0.9263],\n",
      "        [0.1988, 0.2883]])\n",
      "diff\n",
      "tensor([-0.1342,  0.0616,  0.1672,  ...,  0.3886, -0.1084, -0.0435],\n",
      "       grad_fn=<SubBackward0>)\n",
      "f(x)\n",
      "tensor([2.6622, 2.2543, 2.1297,  ..., 2.1817, 2.7994, 2.2843])\n",
      "fXJ\n",
      "tensor([1.9718, 2.5359, 2.4232,  ..., 3.1262, 2.9860, 1.4496],\n",
      "       grad_fn=<MulBackward0>)\n"
     ]
    }
   ],
   "source": [
    "print(\"reset\")\n",
    "NF.create_model(n_pass_through=1,n_cells=1,n_bins=10, nn_width=2, NN=[20,20,20], roll_step=0)\n",
    "\n",
    "w = torch.empty(10000, NF.n_flow, requires_grad=True)\n",
    "torch.nn.init.uniform_(w,0,1)\n",
    "\n",
    "print(\"W\")\n",
    "print(w)\n",
    "                    #print(self.format_input(w).requires_grad)\n",
    "print(\"with jacob\")                  # Output a sample of (phase-space point, forward Jacobian)\n",
    "print(NF.format_input(w))\n",
    "XJ = NF.model(NF.format_input(w))\n",
    "\n",
    "                    # Separate the points and their Jacobians:\n",
    "print(\"XJ\")\n",
    "print(XJ)# This sample is fixed, we optimize the Jacobian\n",
    "X = ((XJ[:, :-1]).detach())\n",
    "print(\"X\")\n",
    "print(X)\n",
    "print(\"diff\")\n",
    "print(X[:,0]-w[:,1])\n",
    "print(\"f(x)\")\n",
    "print(sin(X))\n",
    "\n",
    "print(\"fXJ\")\n",
    "print(torch.mul(sin(X), XJ[:, -1]))"
   ]
  },
  {
   "cell_type": "code",
   "execution_count": null,
   "metadata": {},
   "outputs": [],
   "source": [
    "\"\"\"\n",
    "#a4=fig.add_subplot(143)\n",
    "fig = plt.figure()\n",
    "ax = fig.add_subplot(111, projection='3d')\n",
    "ax.scatter3D(X[:,0],X[:,1],X[:,2])\n",
    "#plt.2d(X[:,0],X[:,1],X[:,2])\n",
    "#ax.set_aspect(aspect=1.)\n",
    "ax.title.set_text('Jacobian after training')\n",
    "ax.tick_params(\n",
    "    axis='both',          # changes apply to the x-axis\n",
    "    which='both',      # both major and minor ticks are affected\n",
    "    bottom=True,      # ticks along the bottom edge are off\n",
    "    left=True,         # ticks along the top edge are off\n",
    "    labelbottom=True,\n",
    "    labelleft=True)\n",
    "\n",
    "\n",
    "NF.create_model(n_pass_through=1,n_cells=1, nn_width=2, NN=[5], roll_step=1)\n",
    "rcParams['axes.labelpad'] = 800\n",
    "z = torch.empty((10000,2)) \n",
    "torch.nn.init.uniform_(z,0,1)\n",
    "\n",
    "w=NF.format_input(z)\n",
    "X=NF.model(w).data.numpy()\n",
    "fig = plt.figure()\n",
    "ax1 = fig.add_subplot(211, projection='3d')\n",
    "ax1.scatter3D(X[:,0],X[:,1],X[:,2])\n",
    "#plt.2d(X[:,0],X[:,1],X[:,2])\n",
    "#ax.set_aspect(aspect=1.)\n",
    "ax1.title.set_text('Jacobian before training')\n",
    "ax1.tick_params(\n",
    "    axis='both',          # changes apply to the x-axis\n",
    "    which='both',      # both major and minor ticks are affected\n",
    "    bottom=True,      # ticks along the bottom edge are off\n",
    "    left=True,         # ticks along the top edge are off\n",
    "    labelbottom=True,\n",
    "    labelleft=True)\n",
    "#ax1.auto_scale_xyz([0.5, 2], [0, 1], [1.55, 1.75])\n",
    "ax1.xaxis._axinfo['label']['space_factor'] = 4.8\n",
    "ax1.zaxis._axinfo['label']['space_factor'] = 8.8\n",
    "rcParams['axes.labelpad'] = 80\n",
    "\n",
    "print(\"\\n\")\n",
    "\"\"\""
   ]
  },
  {
   "cell_type": "code",
   "execution_count": 21,
   "metadata": {},
   "outputs": [
    {
     "name": "stdout",
     "output_type": "stream",
     "text": [
      "tensor(0.0788, grad_fn=<MeanBackward0>)\n"
     ]
    },
    {
     "data": {
      "image/png": "[encoded data removed]",
      "text/plain": [
       "<Figure size 864x432 with 2 Axes>"
      ]
     },
     "metadata": {
      "needs_background": "light"
     },
     "output_type": "display_data"
    }
   ],
   "source": [
    "w = torch.empty((12100,2)) \n",
    "torch.nn.init.uniform_(w,0,1)\n",
    "#q = torch.empty((12100,2)) \n",
    "#torch.nn.init.normal_(q,std=10)\n",
    "#z=150*torch.tan((w-0.5)*(np.pi))\n",
    "#model=torch.load('torch',map_location=torch.device('cpu'))\n",
    "#NF.best_model.load_state_dict(model['model_state_dict'])\n",
    "Y=NF.format_input(w, dev=torch.device(\"cpu\"))\n",
    "X=NF.model(Y)\n",
    "XZ=NF.best_model(Y)\n",
    "#Z=(torch.atan(X)/np.pi+0.5).data.numpy()\n",
    "#print(Z)\n",
    "X=X.data.numpy()\n",
    "XX=XZ.data.numpy()\n",
    "#z=z.data.numpy()\n",
    "#a3=fig.add_subplot(133)\n",
    "fig = plt.figure(figsize=(12, 6))\n",
    "a3=fig.add_subplot(121)\n",
    "\n",
    "plt.hist2d(XX[:,0],XX[:,1],bins=25)\n",
    "axes = plt.gca()\n",
    "axes.set_xlim([-0,1]) \n",
    "axes.set_ylim([-0,1])\n",
    "#a3.set_aspect(aspect=1.)\n",
    "\n",
    "\n",
    "a3.title.set_text('Point histogram (PDF)')\n",
    "a3.tick_params(\n",
    "    axis='both',          # changes apply to the x-axis\n",
    "    which='both',      # both major and minor ticks are affected\n",
    "    bottom=True,      # ticks along the bottom edge are off\n",
    "    left=True,         # ticks along the top edge are off\n",
    "    labelbottom=True,\n",
    "    labelleft=True)\n",
    "\n",
    "\n",
    "#fig = plt.figure(figsize=(6, 6))\n",
    "a4=fig.add_subplot(122)\n",
    "#plt.hist2d(X[:,0],X[:,1],bins=2500)\n",
    "#Q=[[]]\n",
    "#Q=[[-1,-1,-1],[2,2,2]]\n",
    "#Q[:,1]=[,]\n",
    "#Q=np.ones((10,2))\n",
    "#Q[:,0]*=-1\n",
    "plt.hist2d(XX[:,0],XX[:,1],bins=10)\n",
    "axes = plt.gca()\n",
    "axes.set_xlim([-0,1])\n",
    "axes.set_ylim([-0,1])\n",
    "#a3.set_aspect(aspect=1.)\n",
    "\n",
    "\n",
    "a4.title.set_text('Point histogram (PDF)')\n",
    "a4.tick_params(\n",
    "    axis='both',          # changes apply to the x-axis\n",
    "    which='both',      # both major and minor ticks are affected\n",
    "    bottom=True,      # ticks along the bottom edge are off\n",
    "    left=True,         # ticks along the top edge are off\n",
    "    labelbottom=True,\n",
    "    labelleft=True)\n",
    "\n",
    "f=camel\n",
    "\n",
    "w = torch.empty(10800, NF.n_flow)\n",
    "torch.nn.init.uniform_(w)\n",
    "XJ = NF.best_model(NF.format_input(w,dev=torch.device(\"cpu\")))\n",
    "X = (XJ[:, :-1])\n",
    "fXJ = torch.mul(f(X), XJ[:, -1])\n",
    "loss = torch.mean(fXJ**2)\n",
    "print(loss)"
   ]
  },
  {
   "cell_type": "code",
   "execution_count": 4,
   "metadata": {},
   "outputs": [
    {
     "data": {
      "text/plain": [
       "device(type='cpu')"
      ]
     },
     "execution_count": 4,
     "metadata": {},
     "output_type": "execute_result"
    }
   ],
   "source": [
    "w = torch.empty(20, 2)\n",
    "torch.nn.init.normal_(w, std=100)\n",
    "w.device"
   ]
  },
  {
   "cell_type": "code",
   "execution_count": 11,
   "metadata": {},
   "outputs": [
    {
     "ename": "ValueError",
     "evalue": "not enough values to unpack (expected 2, got 1)",
     "output_type": "error",
     "traceback": [
      "\u001b[0;31m---------------------------------------------------------------------------\u001b[0m",
      "\u001b[0;31mValueError\u001b[0m                                Traceback (most recent call last)",
      "\u001b[0;32m<ipython-input-11-bc9878977896>\u001b[0m in \u001b[0;36m<module>\u001b[0;34m\u001b[0m\n\u001b[0;32m----> 1\u001b[0;31m \u001b[0mbs\u001b[0m\u001b[0;34m,\u001b[0m \u001b[0mnl\u001b[0m\u001b[0;34m=\u001b[0m\u001b[0mtorch\u001b[0m\u001b[0;34m.\u001b[0m\u001b[0mones\u001b[0m\u001b[0;34m(\u001b[0m\u001b[0;36m1\u001b[0m\u001b[0;34m)\u001b[0m\u001b[0;34m\u001b[0m\u001b[0;34m\u001b[0m\u001b[0m\n\u001b[0m\u001b[1;32m      2\u001b[0m \u001b[0mbs\u001b[0m\u001b[0;34m.\u001b[0m\u001b[0muniform_\u001b[0m\u001b[0;34m(\u001b[0m\u001b[0;36m1e-7\u001b[0m\u001b[0;34m,\u001b[0m\u001b[0;36m1e-6\u001b[0m\u001b[0;34m)\u001b[0m\u001b[0;34m\u001b[0m\u001b[0;34m\u001b[0m\u001b[0m\n\u001b[1;32m      3\u001b[0m \u001b[0mprint\u001b[0m\u001b[0;34m(\u001b[0m\u001b[0mbs\u001b[0m\u001b[0;34m)\u001b[0m\u001b[0;34m\u001b[0m\u001b[0;34m\u001b[0m\u001b[0m\n",
      "\u001b[0;31mValueError\u001b[0m: not enough values to unpack (expected 2, got 1)"
     ]
    }
   ],
   "source": [
    "\n"
   ]
  },
  {
   "cell_type": "code",
   "execution_count": null,
   "metadata": {},
   "outputs": [],
   "source": []
  }
 ],
 "metadata": {
  "kernelspec": {
   "display_name": "Python 3",
   "language": "python",
   "name": "python3"
  },
  "language_info": {
   "codemirror_mode": {
    "name": "ipython",
    "version": 3
   },
   "file_extension": ".py",
   "mimetype": "text/x-python",
   "name": "python",
   "nbconvert_exporter": "python",
   "pygments_lexer": "ipython3",
   "version": "3.7.6"
  },
  "varInspector": {
   "cols": {
    "lenName": 16,
    "lenType": 16,
    "lenVar": 40
   },
   "kernels_config": {
    "python": {
     "delete_cmd_postfix": "",
     "delete_cmd_prefix": "del ",
     "library": "var_list.py",
     "varRefreshCmd": "print(var_dic_list())"
    },
    "r": {
     "delete_cmd_postfix": ") ",
     "delete_cmd_prefix": "rm(",
     "library": "var_list.r",
     "varRefreshCmd": "cat(var_dic_list()) "
    }
   },
   "types_to_exclude": [
    "module",
    "function",
    "builtin_function_or_method",
    "instance",
    "_Feature"
   ],
   "window_display": false
  }
 },
 "nbformat": 4,
 "nbformat_minor": 4
}
