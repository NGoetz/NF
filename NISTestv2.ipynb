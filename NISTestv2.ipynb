{
 "cells": [
  {
   "cell_type": "code",
   "execution_count": 1,
   "metadata": {},
   "outputs": [],
   "source": [
    "import torch\n",
    "from binNF.normalizing_flows.manager import *\n",
    "import matplotlib.pyplot as plt\n",
    "import numpy as np\n"
   ]
  },
  {
   "cell_type": "code",
   "execution_count": 2,
   "metadata": {},
   "outputs": [],
   "source": [
    "def step(x):\n",
    "    a=torch.zeros_like(x[:,0])\n",
    "    b=torch.ones_like(x[:,0])\n",
    "   \n",
    "    return torch.where(torch.max(abs(x[:,0]), abs(x[:,1]))>1,a,b)\n",
    "\n",
    "def gaussian(x):\n",
    "    return torch.exp( -((x[:,0]-2)**2+(x[:,1]-2)**2)/(1**2)) \n",
    "\n",
    "def gaussianb(x):\n",
    "    return torch.exp( -(x)**2)[:,0]\n",
    "\n",
    "def gaussianbnp(x):\n",
    "    return np.exp( -((x[:,0]+1)**2+(x[:,1])**2) )\n",
    "\n",
    "def gaussiannp(x):\n",
    "    return np.exp( -(x[:,0])**2 )\n",
    "\n",
    "def con(x):\n",
    "    y=torch.empty(x.shape[0])\n",
    "    return y.fill_(5)\n",
    "\n",
    "def sin(x):\n",
    "    return 2+torch.sin(x[:,1])\n",
    "\n",
    "def lin(x):\n",
    "    return 0.2*x[:,0]+0.5\n",
    "\n",
    "def sinnp(x):\n",
    "    return 2+np.sin(x[:,1])\n",
    "\n",
    "def tanp(r):\n",
    "    return (1+((torch.tan((r-0.5)*np.pi))**2))*np.pi"
   ]
  },
  {
   "cell_type": "code",
   "execution_count": 3,
   "metadata": {},
   "outputs": [],
   "source": [
    "n_flow = 2      # number of dimensions\n",
    "\n",
    "\n",
    "# We define our NormalizingFlow object \n",
    "NF =  AffineManager(n_flow=n_flow)\n",
    "\n"
   ]
  },
  {
   "cell_type": "code",
   "execution_count": 11,
   "metadata": {},
   "outputs": [],
   "source": [
    "#The model is created\n",
    "NF.create_model(n_pass_through=1,n_cells=2, NN=[100,100,100,100, 100], roll_step=1)\n",
    "optim = torch.optim.SGD(NF._model.parameters(),lr=5e-3, weight_decay=1e-7) \n",
    "\n",
    "\n",
    "\n",
    "#normal initial distrib: much more stable, in general better results, \n",
    "#but can be overtrained/tends to collapse to delta function\n",
    "# tan: results in general worse, fails at distributions with small (std<1) \n",
    "#but more stable for wide distributions. Also tends to collapse to delta\n"
   ]
  },
  {
   "cell_type": "code",
   "execution_count": 13,
   "metadata": {},
   "outputs": [
    {
     "data": {
      "application/vnd.jupyter.widget-view+json": {
       "model_id": "",
       "version_major": 2,
       "version_minor": 0
      },
      "text/plain": [
       "HBox(children=(FloatProgress(value=0.0, description='Loss: 0.000e+00 | Epoch', max=300.0, style=ProgressStyle(…"
      ]
     },
     "metadata": {},
     "output_type": "display_data"
    },
    {
     "name": "stdout",
     "output_type": "stream",
     "text": [
      "\r"
     ]
    }
   ],
   "source": [
    "\n",
    "history = NF._train_variance_forward(gaussian,epochs=300,batch_size=20000,optimizer_object=optim, logdir=\"./logs/tmp/\")\n",
    "#1e-7 120 1d uniform (always 150) (wot) \n",
    "#0.4 e-7 600 2d uniform (wot)  (smaller lr and shorter for wide gaussians)\n",
    "#0.5e-7, 90 1d uniform (wt)  \n",
    "#0.4 e-7 600 2d uniform (wt) \n",
    "# 5e-3 60 1d normal wot   \n",
    "#5e-3 100 2d normal wot for std=1 2e-2 400 for std 0.3 "
   ]
  },
  {
   "cell_type": "code",
   "execution_count": 14,
   "metadata": {},
   "outputs": [
    {
     "name": "stdout",
     "output_type": "stream",
     "text": [
      "0.07116804271936417\n"
     ]
    },
    {
     "data": {
      "image/png": "[encoded data removed]",
      "text/plain": [
       "<Figure size 864x288 with 2 Axes>"
      ]
     },
     "metadata": {
      "needs_background": "light"
     },
     "output_type": "display_data"
    }
   ],
   "source": [
    "\n",
    "losses=[]\n",
    "for key, value in history.items():\n",
    "    losses.append(value[\"loss\"])\n",
    "\n",
    "fig = plt.figure(figsize=(12, 4))\n",
    "a1=fig.add_subplot(131)\n",
    "plt.plot(losses)\n",
    "print(min(losses))\n",
    "a1.title.set_text('Loss')\n",
    "a2=fig.add_subplot(132)\n",
    "plt.plot(np.sqrt(np.exp(losses)))\n",
    "a2.title.set_text('Standard Deviation')\n",
    "\n",
    "\n",
    "\n",
    "\n"
   ]
  },
  {
   "cell_type": "code",
   "execution_count": 14,
   "metadata": {},
   "outputs": [
    {
     "name": "stdout",
     "output_type": "stream",
     "text": [
      "W\n",
      "tensor([[-1.3079, -0.2136],\n",
      "        [-0.7593,  0.2870],\n",
      "        [ 0.4836,  1.7866],\n",
      "        [ 1.2398, -0.5764],\n",
      "        [-1.8998, -0.1249],\n",
      "        [ 0.4602, -0.8308],\n",
      "        [-0.3608,  0.2317],\n",
      "        [ 0.2379, -0.0549],\n",
      "        [-0.2961,  0.0577],\n",
      "        [-1.8820,  0.1793],\n",
      "        [ 1.2616, -0.9129],\n",
      "        [-0.0543,  0.9980],\n",
      "        [ 1.8162,  0.7931],\n",
      "        [-1.4644, -1.0949],\n",
      "        [-0.1942,  0.1874],\n",
      "        [ 0.1310,  0.2285],\n",
      "        [-2.3652, -0.8737],\n",
      "        [ 1.3062,  0.8337],\n",
      "        [ 2.0568, -1.0228],\n",
      "        [ 2.5188, -0.4670]])\n",
      "with jacob\n",
      "tensor([[-1.3079, -0.2136,  1.0000],\n",
      "        [-0.7593,  0.2870,  1.0000],\n",
      "        [ 0.4836,  1.7866,  1.0000],\n",
      "        [ 1.2398, -0.5764,  1.0000],\n",
      "        [-1.8998, -0.1249,  1.0000],\n",
      "        [ 0.4602, -0.8308,  1.0000],\n",
      "        [-0.3608,  0.2317,  1.0000],\n",
      "        [ 0.2379, -0.0549,  1.0000],\n",
      "        [-0.2961,  0.0577,  1.0000],\n",
      "        [-1.8820,  0.1793,  1.0000],\n",
      "        [ 1.2616, -0.9129,  1.0000],\n",
      "        [-0.0543,  0.9980,  1.0000],\n",
      "        [ 1.8162,  0.7931,  1.0000],\n",
      "        [-1.4644, -1.0949,  1.0000],\n",
      "        [-0.1942,  0.1874,  1.0000],\n",
      "        [ 0.1310,  0.2285,  1.0000],\n",
      "        [-2.3652, -0.8737,  1.0000],\n",
      "        [ 1.3062,  0.8337,  1.0000],\n",
      "        [ 2.0568, -1.0228,  1.0000],\n",
      "        [ 2.5188, -0.4670,  1.0000]])\n",
      "XJ\n",
      "tensor([[-0.1008, -0.5952,  0.2147],\n",
      "        [ 0.1355, -0.3459,  0.2151],\n",
      "        [ 0.8417,  0.2212,  0.2155],\n",
      "        [-0.2714,  0.5642,  0.2143],\n",
      "        [-0.0589, -0.8648,  0.2147],\n",
      "        [-0.3914,  0.2094,  0.2144],\n",
      "        [ 0.1094, -0.1644,  0.2152],\n",
      "        [-0.0259,  0.1083,  0.2145],\n",
      "        [ 0.0273, -0.1348,  0.2150],\n",
      "        [ 0.0846, -0.8573,  0.2149],\n",
      "        [-0.4299,  0.5742,  0.2143],\n",
      "        [ 0.4707, -0.0248,  0.2153],\n",
      "        [ 0.3735,  0.8287,  0.2149],\n",
      "        [-0.5165, -0.6665,  0.2147],\n",
      "        [ 0.0885, -0.0885,  0.2150],\n",
      "        [ 0.1077,  0.0597,  0.2147],\n",
      "        [-0.4120, -1.0765,  0.2146],\n",
      "        [ 0.3926,  0.5961,  0.2149],\n",
      "        [-0.4816,  0.9361,  0.2143],\n",
      "        [-0.2199,  1.1462,  0.2143]], grad_fn=<CatBackward>)\n",
      "XJ2\n",
      "tensor([[-0.1021, -0.6033,  0.2204],\n",
      "        [ 0.1372, -0.3506,  0.2208],\n",
      "        [ 0.8530,  0.2242,  0.2213],\n",
      "        [-0.2751,  0.5719,  0.2202],\n",
      "        [-0.0596, -0.8765,  0.2204],\n",
      "        [-0.3966,  0.2123,  0.2203],\n",
      "        [ 0.1109, -0.1666,  0.2209],\n",
      "        [-0.0262,  0.1098,  0.2203],\n",
      "        [ 0.0276, -0.1367,  0.2208],\n",
      "        [ 0.0857, -0.8689,  0.2206],\n",
      "        [-0.4358,  0.5821,  0.2202],\n",
      "        [ 0.4770, -0.0251,  0.2211],\n",
      "        [ 0.3785,  0.8399,  0.2207],\n",
      "        [-0.5231, -0.6757,  0.2204],\n",
      "        [ 0.0896, -0.0897,  0.2208],\n",
      "        [ 0.1091,  0.0605,  0.2205],\n",
      "        [-0.4173, -1.0912,  0.2204],\n",
      "        [ 0.3979,  0.6041,  0.2208],\n",
      "        [-0.4882,  0.9490,  0.2202],\n",
      "        [-0.2229,  1.1618,  0.2201]], grad_fn=<CatBackward>)\n"
     ]
    },
    {
     "data": {
      "text/plain": [
       "'\\nf=gaussian\\nprint(\"f(x)\")\\nprint(f(X))\\n\\n\\nprint(\"fXJ\")\\nprint(torch.mul(f(X), XJ[:, -1]))\\n\\nprint(\"loss without jac\")\\nprint(torch.mean(f(X)**2))\\n\\nprint(\"squared mean\")\\nprint(torch.mean(f(X))**2)\\n\\nprint(\"loss\")\\nprint(torch.mean(torch.mul(f(X), XJ[:, -1])**2))\\n\\n'"
      ]
     },
     "execution_count": 14,
     "metadata": {},
     "output_type": "execute_result"
    }
   ],
   "source": [
    "w = torch.empty(20, NF.n_flow)\n",
    "torch.nn.init.normal_(w)\n",
    "\n",
    "print(\"W\")\n",
    "print(w)\n",
    "                    #print(self.format_input(w).requires_grad)\n",
    "print(\"with jacob\")                  # Output a sample of (phase-space point, forward Jacobian)\n",
    "print(NF.format_input(w))\n",
    "\n",
    "#print(\"mapped\")\n",
    "#print(NF.format_input(100*torch.tan((w-0.5)*(np.pi))))\n",
    "XJ=NF.model(NF.format_input(w))\n",
    "\n",
    "\n",
    "                    # Separate the points and their Jacobians:\n",
    "print(\"XJ\")\n",
    "print(XJ)# This sample is fixed, we optimize the Jacobian\n",
    "\n",
    "XJ2=NF.best_model(NF.format_input(w))\n",
    "\n",
    "\n",
    "                    # Separate the points and their Jacobians:\n",
    "print(\"XJ2\")\n",
    "print(XJ2)\n",
    "\n",
    "\"\"\"\n",
    "f=gaussian\n",
    "print(\"f(x)\")\n",
    "print(f(X))\n",
    "\n",
    "\n",
    "print(\"fXJ\")\n",
    "print(torch.mul(f(X), XJ[:, -1]))\n",
    "\n",
    "print(\"loss without jac\")\n",
    "print(torch.mean(f(X)**2))\n",
    "\n",
    "print(\"squared mean\")\n",
    "print(torch.mean(f(X))**2)\n",
    "\n",
    "print(\"loss\")\n",
    "print(torch.mean(torch.mul(f(X), XJ[:, -1])**2))\n",
    "\n",
    "\"\"\""
   ]
  },
  {
   "cell_type": "code",
   "execution_count": 49,
   "metadata": {},
   "outputs": [
    {
     "data": {
      "image/png": "[encoded data removed]",
      "text/plain": [
       "<Figure size 432x288 with 1 Axes>"
      ]
     },
     "metadata": {
      "needs_background": "light"
     },
     "output_type": "display_data"
    }
   ],
   "source": [
    "xs = np.linspace(-10,10,100)\n",
    "ys = np.linspace(10,-10,100) # in images the y axis is inverted\n",
    "Xs,Ys = np.meshgrid(xs,ys)\n",
    "zs=gaussianbnp(np.array(list(zip(Xs.reshape(100*100),Ys.reshape(100*100)))).astype(np.float32)).reshape(100,100)\n",
    "plt.imshow(zs)\n",
    "plt.show()"
   ]
  },
  {
   "cell_type": "code",
   "execution_count": 31,
   "metadata": {},
   "outputs": [
    {
     "name": "stdout",
     "output_type": "stream",
     "text": [
      "reset\n",
      "W\n",
      "tensor([[0.9578, 0.9368],\n",
      "        [0.3170, 0.6490],\n",
      "        [0.1292, 0.2823],\n",
      "        ...,\n",
      "        [0.2792, 0.5616],\n",
      "        [0.6719, 0.1296],\n",
      "        [0.9155, 0.5293]], requires_grad=True)\n",
      "with jacob\n",
      "tensor([[0.9578, 0.9368, 1.0000],\n",
      "        [0.3170, 0.6490, 1.0000],\n",
      "        [0.1292, 0.2823, 1.0000],\n",
      "        ...,\n",
      "        [0.2792, 0.5616, 1.0000],\n",
      "        [0.6719, 0.1296, 1.0000],\n",
      "        [0.9155, 0.5293, 1.0000]], grad_fn=<CatBackward>)\n",
      "XJ\n",
      "tensor([[ 0.1796,  0.9578,  0.4919],\n",
      "        [ 0.0680,  0.3170,  0.4914],\n",
      "        [-0.1451,  0.1292,  0.4898],\n",
      "        ...,\n",
      "        [ 0.0200,  0.2792,  0.4911],\n",
      "        [-0.2019,  0.6719,  0.4921],\n",
      "        [-0.0193,  0.9155,  0.4919]], grad_fn=<CatBackward>)\n",
      "X\n",
      "tensor([[ 0.1796,  0.9578],\n",
      "        [ 0.0680,  0.3170],\n",
      "        [-0.1451,  0.1292],\n",
      "        ...,\n",
      "        [ 0.0200,  0.2792],\n",
      "        [-0.2019,  0.6719],\n",
      "        [-0.0193,  0.9155]])\n",
      "diff\n",
      "tensor([-0.7571, -0.5810, -0.4274,  ..., -0.5416, -0.3315, -0.5486],\n",
      "       grad_fn=<SubBackward0>)\n",
      "f(x)\n",
      "tensor([2.8179, 2.3117, 2.1289,  ..., 2.2756, 2.6225, 2.7929])\n",
      "fXJ\n",
      "tensor([1.3861, 1.1360, 1.0428,  ..., 1.1174, 1.2905, 1.3738],\n",
      "       grad_fn=<MulBackward0>)\n"
     ]
    }
   ],
   "source": [
    "print(\"reset\")\n",
    "NF.create_model(n_pass_through=1,n_cells=1, nn_width=2, NN=[20,20,20], roll_step=1)\n",
    "\n",
    "w = torch.empty(10000, NF.n_flow, requires_grad=True)\n",
    "torch.nn.init.uniform_(w,0,1)\n",
    "\n",
    "print(\"W\")\n",
    "print(w)\n",
    "                    #print(self.format_input(w).requires_grad)\n",
    "print(\"with jacob\")                  # Output a sample of (phase-space point, forward Jacobian)\n",
    "print(NF.format_input(w))\n",
    "XJ = NF.model(NF.format_input(w))\n",
    "\n",
    "                    # Separate the points and their Jacobians:\n",
    "print(\"XJ\")\n",
    "print(XJ)# This sample is fixed, we optimize the Jacobian\n",
    "X = ((XJ[:, :-1]).detach())\n",
    "print(\"X\")\n",
    "print(X)\n",
    "print(\"diff\")\n",
    "print(X[:,0]-w[:,1])\n",
    "print(\"f(x)\")\n",
    "print(sin(X))\n",
    "\n",
    "print(\"fXJ\")\n",
    "print(torch.mul(sin(X), XJ[:, -1]))"
   ]
  },
  {
   "cell_type": "code",
   "execution_count": null,
   "metadata": {},
   "outputs": [],
   "source": [
    "\"\"\"\n",
    "#a4=fig.add_subplot(143)\n",
    "fig = plt.figure()\n",
    "ax = fig.add_subplot(111, projection='3d')\n",
    "ax.scatter3D(X[:,0],X[:,1],X[:,2])\n",
    "#plt.2d(X[:,0],X[:,1],X[:,2])\n",
    "#ax.set_aspect(aspect=1.)\n",
    "ax.title.set_text('Jacobian after training')\n",
    "ax.tick_params(\n",
    "    axis='both',          # changes apply to the x-axis\n",
    "    which='both',      # both major and minor ticks are affected\n",
    "    bottom=True,      # ticks along the bottom edge are off\n",
    "    left=True,         # ticks along the top edge are off\n",
    "    labelbottom=True,\n",
    "    labelleft=True)\n",
    "\n",
    "\n",
    "NF.create_model(n_pass_through=1,n_cells=1, nn_width=2, NN=[5], roll_step=1)\n",
    "rcParams['axes.labelpad'] = 800\n",
    "z = torch.empty((10000,2)) \n",
    "torch.nn.init.uniform_(z,0,1)\n",
    "\n",
    "w=NF.format_input(z)\n",
    "X=NF.model(w).data.numpy()\n",
    "fig = plt.figure()\n",
    "ax1 = fig.add_subplot(211, projection='3d')\n",
    "ax1.scatter3D(X[:,0],X[:,1],X[:,2])\n",
    "#plt.2d(X[:,0],X[:,1],X[:,2])\n",
    "#ax.set_aspect(aspect=1.)\n",
    "ax1.title.set_text('Jacobian before training')\n",
    "ax1.tick_params(\n",
    "    axis='both',          # changes apply to the x-axis\n",
    "    which='both',      # both major and minor ticks are affected\n",
    "    bottom=True,      # ticks along the bottom edge are off\n",
    "    left=True,         # ticks along the top edge are off\n",
    "    labelbottom=True,\n",
    "    labelleft=True)\n",
    "#ax1.auto_scale_xyz([0.5, 2], [0, 1], [1.55, 1.75])\n",
    "ax1.xaxis._axinfo['label']['space_factor'] = 4.8\n",
    "ax1.zaxis._axinfo['label']['space_factor'] = 8.8\n",
    "rcParams['axes.labelpad'] = 80\n",
    "\n",
    "print(\"\\n\")\n",
    "\"\"\""
   ]
  },
  {
   "cell_type": "code",
   "execution_count": 15,
   "metadata": {},
   "outputs": [
    {
     "data": {
      "image/png": "[encoded data removed]",
      "text/plain": [
       "<Figure size 864x432 with 2 Axes>"
      ]
     },
     "metadata": {
      "needs_background": "light"
     },
     "output_type": "display_data"
    }
   ],
   "source": [
    "w = torch.empty((250,2)) \n",
    "torch.nn.init.uniform_(w,0,1)\n",
    "q = torch.empty((12100,2)) \n",
    "torch.nn.init.normal_(q,std=10)\n",
    "z=150*torch.tan((w-0.5)*(np.pi))\n",
    "\n",
    "#more bins than points= fine grid\n",
    "Y=NF.format_input(q)\n",
    "X=NF.model(Y)\n",
    "XX=NF.best_model(Y)\n",
    "#Z=(torch.atan(X)/np.pi+0.5).data.numpy()\n",
    "#print(Z)\n",
    "X=X.data.numpy()\n",
    "XX=XX.data.numpy()\n",
    "z=z.data.numpy()\n",
    "#a3=fig.add_subplot(133)\n",
    "fig = plt.figure(figsize=(12, 6))\n",
    "a3=fig.add_subplot(121)\n",
    "\n",
    "plt.hist2d(X[:,0],X[:,1],bins=360)\n",
    "axes = plt.gca()\n",
    "axes.set_xlim([-50,50]) \n",
    "axes.set_ylim([-2,2])\n",
    "#a3.set_aspect(aspect=1.)\n",
    "\n",
    "\n",
    "a3.title.set_text('Point histogram (PDF)')\n",
    "a3.tick_params(\n",
    "    axis='both',          # changes apply to the x-axis\n",
    "    which='both',      # both major and minor ticks are affected\n",
    "    bottom=True,      # ticks along the bottom edge are off\n",
    "    left=True,         # ticks along the top edge are off\n",
    "    labelbottom=True,\n",
    "    labelleft=True)\n",
    "\n",
    "\n",
    "#fig = plt.figure(figsize=(6, 6))\n",
    "a4=fig.add_subplot(122)\n",
    "#plt.hist2d(X[:,0],X[:,1],bins=2500)\n",
    "#Q=[[]]\n",
    "#Q=[[-1,-1,-1],[2,2,2]]\n",
    "#Q[:,1]=[,]\n",
    "#Q=np.ones((10,2))\n",
    "#Q[:,0]*=-1\n",
    "plt.hist2d(XX[:,0],XX[:,1],bins=360)\n",
    "axes = plt.gca()\n",
    "axes.set_xlim([-5,5])\n",
    "axes.set_ylim([-5,5])\n",
    "#a3.set_aspect(aspect=1.)\n",
    "\n",
    "\n",
    "a4.title.set_text('Point histogram (PDF)')\n",
    "a4.tick_params(\n",
    "    axis='both',          # changes apply to the x-axis\n",
    "    which='both',      # both major and minor ticks are affected\n",
    "    bottom=True,      # ticks along the bottom edge are off\n",
    "    left=True,         # ticks along the top edge are off\n",
    "    labelbottom=True,\n",
    "    labelleft=True)\n",
    "\n"
   ]
  },
  {
   "cell_type": "code",
   "execution_count": 48,
   "metadata": {},
   "outputs": [
    {
     "data": {
      "text/plain": [
       "tensor([[ 124.0116,   47.9657],\n",
       "        [  -7.4994, -213.4038],\n",
       "        [  67.7636,  -32.0429],\n",
       "        [ -42.4372,  -10.8968],\n",
       "        [ -33.5290,    6.3961],\n",
       "        [  13.0762,  -38.7510],\n",
       "        [  83.4277,  -12.8562],\n",
       "        [ -82.8009,  -22.0921],\n",
       "        [  11.4701,  154.7312],\n",
       "        [-127.1577,  -81.6875],\n",
       "        [  43.4944,   21.7519],\n",
       "        [ 182.8632,   95.6407],\n",
       "        [-137.9283,  -93.3104],\n",
       "        [  41.1783,  103.4374],\n",
       "        [-113.1125,  -20.7664],\n",
       "        [ 101.5151,   29.5386],\n",
       "        [ -55.7257,   81.6997],\n",
       "        [ -72.3741,   35.4625],\n",
       "        [  25.8046,   -1.5254],\n",
       "        [-172.8428,   73.4215]])"
      ]
     },
     "execution_count": 48,
     "metadata": {},
     "output_type": "execute_result"
    }
   ],
   "source": [
    "w = torch.empty(20, 2)\n",
    "torch.nn.init.normal_(w, std=100)"
   ]
  },
  {
   "cell_type": "code",
   "execution_count": null,
   "metadata": {},
   "outputs": [],
   "source": []
  }
 ],
 "metadata": {
  "kernelspec": {
   "display_name": "Python 3",
   "language": "python",
   "name": "python3"
  },
  "language_info": {
   "codemirror_mode": {
    "name": "ipython",
    "version": 3
   },
   "file_extension": ".py",
   "mimetype": "text/x-python",
   "name": "python",
   "nbconvert_exporter": "python",
   "pygments_lexer": "ipython3",
   "version": "3.7.6"
  },
  "varInspector": {
   "cols": {
    "lenName": 16,
    "lenType": 16,
    "lenVar": 40
   },
   "kernels_config": {
    "python": {
     "delete_cmd_postfix": "",
     "delete_cmd_prefix": "del ",
     "library": "var_list.py",
     "varRefreshCmd": "print(var_dic_list())"
    },
    "r": {
     "delete_cmd_postfix": ") ",
     "delete_cmd_prefix": "rm(",
     "library": "var_list.r",
     "varRefreshCmd": "cat(var_dic_list()) "
    }
   },
   "types_to_exclude": [
    "module",
    "function",
    "builtin_function_or_method",
    "instance",
    "_Feature"
   ],
   "window_display": false
  }
 },
 "nbformat": 4,
 "nbformat_minor": 4
}
